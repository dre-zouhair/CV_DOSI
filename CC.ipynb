{
  "nbformat": 4,
  "nbformat_minor": 0,
  "metadata": {
    "colab": {
      "name": "CC.ipynb",
      "provenance": [],
      "collapsed_sections": [],
      "include_colab_link": true
    },
    "kernelspec": {
      "name": "python3",
      "display_name": "Python 3"
    },
    "widgets": {
      "application/vnd.jupyter.widget-state+json": {
        "a4c81b87ebd8422abbc3d8d06e301bfb": {
          "model_module": "@jupyter-widgets/controls",
          "model_name": "IntProgressModel",
          "state": {
            "_view_name": "ProgressView",
            "style": "IPY_MODEL_16a267edaa8340339d0bfa6c58631992",
            "_dom_classes": [],
            "description": "Processing: ",
            "_model_name": "IntProgressModel",
            "bar_style": "",
            "max": 3,
            "_view_module": "@jupyter-widgets/controls",
            "_model_module_version": "1.5.0",
            "value": 3,
            "_view_count": null,
            "_view_module_version": "1.5.0",
            "orientation": "horizontal",
            "min": 0,
            "description_tooltip": null,
            "_model_module": "@jupyter-widgets/controls",
            "layout": "IPY_MODEL_304160a8c8cb4a2b91beda723bf999fc"
          }
        },
        "16a267edaa8340339d0bfa6c58631992": {
          "model_module": "@jupyter-widgets/controls",
          "model_name": "ProgressStyleModel",
          "state": {
            "_view_name": "StyleView",
            "_model_name": "ProgressStyleModel",
            "description_width": "",
            "_view_module": "@jupyter-widgets/base",
            "_model_module_version": "1.5.0",
            "_view_count": null,
            "_view_module_version": "1.2.0",
            "bar_color": null,
            "_model_module": "@jupyter-widgets/controls"
          }
        },
        "304160a8c8cb4a2b91beda723bf999fc": {
          "model_module": "@jupyter-widgets/base",
          "model_name": "LayoutModel",
          "state": {
            "_view_name": "LayoutView",
            "grid_template_rows": null,
            "right": null,
            "justify_content": null,
            "_view_module": "@jupyter-widgets/base",
            "overflow": null,
            "_model_module_version": "1.2.0",
            "_view_count": null,
            "flex_flow": null,
            "width": null,
            "min_width": null,
            "border": null,
            "align_items": null,
            "bottom": null,
            "_model_module": "@jupyter-widgets/base",
            "top": null,
            "grid_column": null,
            "overflow_y": null,
            "overflow_x": null,
            "grid_auto_flow": null,
            "grid_area": null,
            "grid_template_columns": null,
            "flex": null,
            "_model_name": "LayoutModel",
            "justify_items": null,
            "grid_row": null,
            "max_height": null,
            "align_content": null,
            "visibility": null,
            "align_self": null,
            "height": null,
            "min_height": null,
            "padding": null,
            "grid_auto_rows": null,
            "grid_gap": null,
            "max_width": null,
            "order": null,
            "_view_module_version": "1.2.0",
            "grid_template_areas": null,
            "object_position": null,
            "object_fit": null,
            "grid_auto_columns": null,
            "margin": null,
            "display": null,
            "left": null
          }
        },
        "52fcaf5a645743419323a4d3854aacd1": {
          "model_module": "@jupyter-widgets/controls",
          "model_name": "TextModel",
          "state": {
            "_view_name": "TextView",
            "style": "IPY_MODEL_ca8e259164864ef29eac6fbdcce8d070",
            "_dom_classes": [],
            "description": "",
            "_model_name": "TextModel",
            "placeholder": "​",
            "_view_module": "@jupyter-widgets/controls",
            "_model_module_version": "1.5.0",
            "value": "Following data types have been inferred automatically, if they are correct press enter to continue or type 'quit' otherwise.",
            "_view_count": null,
            "disabled": false,
            "_view_module_version": "1.5.0",
            "continuous_update": true,
            "description_tooltip": null,
            "_model_module": "@jupyter-widgets/controls",
            "layout": "IPY_MODEL_5be67fefe85141678d1550d4c1b107fd"
          }
        },
        "ca8e259164864ef29eac6fbdcce8d070": {
          "model_module": "@jupyter-widgets/controls",
          "model_name": "DescriptionStyleModel",
          "state": {
            "_view_name": "StyleView",
            "_model_name": "DescriptionStyleModel",
            "description_width": "",
            "_view_module": "@jupyter-widgets/base",
            "_model_module_version": "1.5.0",
            "_view_count": null,
            "_view_module_version": "1.2.0",
            "_model_module": "@jupyter-widgets/controls"
          }
        },
        "5be67fefe85141678d1550d4c1b107fd": {
          "model_module": "@jupyter-widgets/base",
          "model_name": "LayoutModel",
          "state": {
            "_view_name": "LayoutView",
            "grid_template_rows": null,
            "right": null,
            "justify_content": null,
            "_view_module": "@jupyter-widgets/base",
            "overflow": null,
            "_model_module_version": "1.2.0",
            "_view_count": null,
            "flex_flow": null,
            "width": "100%",
            "min_width": null,
            "border": null,
            "align_items": null,
            "bottom": null,
            "_model_module": "@jupyter-widgets/base",
            "top": null,
            "grid_column": null,
            "overflow_y": null,
            "overflow_x": null,
            "grid_auto_flow": null,
            "grid_area": null,
            "grid_template_columns": null,
            "flex": null,
            "_model_name": "LayoutModel",
            "justify_items": null,
            "grid_row": null,
            "max_height": null,
            "align_content": null,
            "visibility": null,
            "align_self": null,
            "height": null,
            "min_height": null,
            "padding": null,
            "grid_auto_rows": null,
            "grid_gap": null,
            "max_width": null,
            "order": null,
            "_view_module_version": "1.2.0",
            "grid_template_areas": null,
            "object_position": null,
            "object_fit": null,
            "grid_auto_columns": null,
            "margin": null,
            "display": null,
            "left": null
          }
        },
        "fee08349568542d8bd83b96ce9b76f6d": {
          "model_module": "@jupyter-widgets/controls",
          "model_name": "IntProgressModel",
          "state": {
            "_view_name": "ProgressView",
            "style": "IPY_MODEL_e3ef8187d73f4a0a91015f175651c2cd",
            "_dom_classes": [],
            "description": "Processing: ",
            "_model_name": "IntProgressModel",
            "bar_style": "",
            "max": 79,
            "_view_module": "@jupyter-widgets/controls",
            "_model_module_version": "1.5.0",
            "value": 79,
            "_view_count": null,
            "_view_module_version": "1.5.0",
            "orientation": "horizontal",
            "min": 0,
            "description_tooltip": null,
            "_model_module": "@jupyter-widgets/controls",
            "layout": "IPY_MODEL_93dc8cc574744bc79cb1c61c14803076"
          }
        },
        "e3ef8187d73f4a0a91015f175651c2cd": {
          "model_module": "@jupyter-widgets/controls",
          "model_name": "ProgressStyleModel",
          "state": {
            "_view_name": "StyleView",
            "_model_name": "ProgressStyleModel",
            "description_width": "",
            "_view_module": "@jupyter-widgets/base",
            "_model_module_version": "1.5.0",
            "_view_count": null,
            "_view_module_version": "1.2.0",
            "bar_color": null,
            "_model_module": "@jupyter-widgets/controls"
          }
        },
        "93dc8cc574744bc79cb1c61c14803076": {
          "model_module": "@jupyter-widgets/base",
          "model_name": "LayoutModel",
          "state": {
            "_view_name": "LayoutView",
            "grid_template_rows": null,
            "right": null,
            "justify_content": null,
            "_view_module": "@jupyter-widgets/base",
            "overflow": null,
            "_model_module_version": "1.2.0",
            "_view_count": null,
            "flex_flow": null,
            "width": null,
            "min_width": null,
            "border": null,
            "align_items": null,
            "bottom": null,
            "_model_module": "@jupyter-widgets/base",
            "top": null,
            "grid_column": null,
            "overflow_y": null,
            "overflow_x": null,
            "grid_auto_flow": null,
            "grid_area": null,
            "grid_template_columns": null,
            "flex": null,
            "_model_name": "LayoutModel",
            "justify_items": null,
            "grid_row": null,
            "max_height": null,
            "align_content": null,
            "visibility": null,
            "align_self": null,
            "height": null,
            "min_height": null,
            "padding": null,
            "grid_auto_rows": null,
            "grid_gap": null,
            "max_width": null,
            "order": null,
            "_view_module_version": "1.2.0",
            "grid_template_areas": null,
            "object_position": null,
            "object_fit": null,
            "grid_auto_columns": null,
            "margin": null,
            "display": null,
            "left": null
          }
        },
        "18ffc525e47e4b64b7631fdd01015c0f": {
          "model_module": "@jupyter-widgets/controls",
          "model_name": "IntProgressModel",
          "state": {
            "_view_name": "ProgressView",
            "style": "IPY_MODEL_58321a03f1c141e98e2da69df240d51b",
            "_dom_classes": [],
            "description": "Processing: ",
            "_model_name": "IntProgressModel",
            "bar_style": "",
            "max": 4,
            "_view_module": "@jupyter-widgets/controls",
            "_model_module_version": "1.5.0",
            "value": 4,
            "_view_count": null,
            "_view_module_version": "1.5.0",
            "orientation": "horizontal",
            "min": 0,
            "description_tooltip": null,
            "_model_module": "@jupyter-widgets/controls",
            "layout": "IPY_MODEL_c7d948784d8f4b95b98380c59310500a"
          }
        },
        "58321a03f1c141e98e2da69df240d51b": {
          "model_module": "@jupyter-widgets/controls",
          "model_name": "ProgressStyleModel",
          "state": {
            "_view_name": "StyleView",
            "_model_name": "ProgressStyleModel",
            "description_width": "",
            "_view_module": "@jupyter-widgets/base",
            "_model_module_version": "1.5.0",
            "_view_count": null,
            "_view_module_version": "1.2.0",
            "bar_color": null,
            "_model_module": "@jupyter-widgets/controls"
          }
        },
        "c7d948784d8f4b95b98380c59310500a": {
          "model_module": "@jupyter-widgets/base",
          "model_name": "LayoutModel",
          "state": {
            "_view_name": "LayoutView",
            "grid_template_rows": null,
            "right": null,
            "justify_content": null,
            "_view_module": "@jupyter-widgets/base",
            "overflow": null,
            "_model_module_version": "1.2.0",
            "_view_count": null,
            "flex_flow": null,
            "width": null,
            "min_width": null,
            "border": null,
            "align_items": null,
            "bottom": null,
            "_model_module": "@jupyter-widgets/base",
            "top": null,
            "grid_column": null,
            "overflow_y": null,
            "overflow_x": null,
            "grid_auto_flow": null,
            "grid_area": null,
            "grid_template_columns": null,
            "flex": null,
            "_model_name": "LayoutModel",
            "justify_items": null,
            "grid_row": null,
            "max_height": null,
            "align_content": null,
            "visibility": null,
            "align_self": null,
            "height": null,
            "min_height": null,
            "padding": null,
            "grid_auto_rows": null,
            "grid_gap": null,
            "max_width": null,
            "order": null,
            "_view_module_version": "1.2.0",
            "grid_template_areas": null,
            "object_position": null,
            "object_fit": null,
            "grid_auto_columns": null,
            "margin": null,
            "display": null,
            "left": null
          }
        },
        "d8f26b2bdd944bacb2badfec8e16aceb": {
          "model_module": "@jupyter-widgets/controls",
          "model_name": "IntProgressModel",
          "state": {
            "_view_name": "ProgressView",
            "style": "IPY_MODEL_6189e9224d434c4d9130564a339a7ed7",
            "_dom_classes": [],
            "description": "Processing: ",
            "_model_name": "IntProgressModel",
            "bar_style": "",
            "max": 7,
            "_view_module": "@jupyter-widgets/controls",
            "_model_module_version": "1.5.0",
            "value": 7,
            "_view_count": null,
            "_view_module_version": "1.5.0",
            "orientation": "horizontal",
            "min": 0,
            "description_tooltip": null,
            "_model_module": "@jupyter-widgets/controls",
            "layout": "IPY_MODEL_35c73d5fa426422fb6e32858bcd266d3"
          }
        },
        "6189e9224d434c4d9130564a339a7ed7": {
          "model_module": "@jupyter-widgets/controls",
          "model_name": "ProgressStyleModel",
          "state": {
            "_view_name": "StyleView",
            "_model_name": "ProgressStyleModel",
            "description_width": "",
            "_view_module": "@jupyter-widgets/base",
            "_model_module_version": "1.5.0",
            "_view_count": null,
            "_view_module_version": "1.2.0",
            "bar_color": null,
            "_model_module": "@jupyter-widgets/controls"
          }
        },
        "35c73d5fa426422fb6e32858bcd266d3": {
          "model_module": "@jupyter-widgets/base",
          "model_name": "LayoutModel",
          "state": {
            "_view_name": "LayoutView",
            "grid_template_rows": null,
            "right": null,
            "justify_content": null,
            "_view_module": "@jupyter-widgets/base",
            "overflow": null,
            "_model_module_version": "1.2.0",
            "_view_count": null,
            "flex_flow": null,
            "width": null,
            "min_width": null,
            "border": null,
            "align_items": null,
            "bottom": null,
            "_model_module": "@jupyter-widgets/base",
            "top": null,
            "grid_column": null,
            "overflow_y": null,
            "overflow_x": null,
            "grid_auto_flow": null,
            "grid_area": null,
            "grid_template_columns": null,
            "flex": null,
            "_model_name": "LayoutModel",
            "justify_items": null,
            "grid_row": null,
            "max_height": null,
            "align_content": null,
            "visibility": null,
            "align_self": null,
            "height": null,
            "min_height": null,
            "padding": null,
            "grid_auto_rows": null,
            "grid_gap": null,
            "max_width": null,
            "order": null,
            "_view_module_version": "1.2.0",
            "grid_template_areas": null,
            "object_position": null,
            "object_fit": null,
            "grid_auto_columns": null,
            "margin": null,
            "display": null,
            "left": null
          }
        },
        "c381d65b654447f4ba2ee2c93acd9dd2": {
          "model_module": "@jupyter-widgets/controls",
          "model_name": "IntProgressModel",
          "state": {
            "_view_name": "ProgressView",
            "style": "IPY_MODEL_752e1f90eadc45f59dd6d8db07515a70",
            "_dom_classes": [],
            "description": "Processing: ",
            "_model_name": "IntProgressModel",
            "bar_style": "",
            "max": 5,
            "_view_module": "@jupyter-widgets/controls",
            "_model_module_version": "1.5.0",
            "value": 5,
            "_view_count": null,
            "_view_module_version": "1.5.0",
            "orientation": "horizontal",
            "min": 0,
            "description_tooltip": null,
            "_model_module": "@jupyter-widgets/controls",
            "layout": "IPY_MODEL_77f229b7edee4034bcec35e61c58d0a2"
          }
        },
        "752e1f90eadc45f59dd6d8db07515a70": {
          "model_module": "@jupyter-widgets/controls",
          "model_name": "ProgressStyleModel",
          "state": {
            "_view_name": "StyleView",
            "_model_name": "ProgressStyleModel",
            "description_width": "",
            "_view_module": "@jupyter-widgets/base",
            "_model_module_version": "1.5.0",
            "_view_count": null,
            "_view_module_version": "1.2.0",
            "bar_color": null,
            "_model_module": "@jupyter-widgets/controls"
          }
        },
        "77f229b7edee4034bcec35e61c58d0a2": {
          "model_module": "@jupyter-widgets/base",
          "model_name": "LayoutModel",
          "state": {
            "_view_name": "LayoutView",
            "grid_template_rows": null,
            "right": null,
            "justify_content": null,
            "_view_module": "@jupyter-widgets/base",
            "overflow": null,
            "_model_module_version": "1.2.0",
            "_view_count": null,
            "flex_flow": null,
            "width": null,
            "min_width": null,
            "border": null,
            "align_items": null,
            "bottom": null,
            "_model_module": "@jupyter-widgets/base",
            "top": null,
            "grid_column": null,
            "overflow_y": null,
            "overflow_x": null,
            "grid_auto_flow": null,
            "grid_area": null,
            "grid_template_columns": null,
            "flex": null,
            "_model_name": "LayoutModel",
            "justify_items": null,
            "grid_row": null,
            "max_height": null,
            "align_content": null,
            "visibility": null,
            "align_self": null,
            "height": null,
            "min_height": null,
            "padding": null,
            "grid_auto_rows": null,
            "grid_gap": null,
            "max_width": null,
            "order": null,
            "_view_module_version": "1.2.0",
            "grid_template_areas": null,
            "object_position": null,
            "object_fit": null,
            "grid_auto_columns": null,
            "margin": null,
            "display": null,
            "left": null
          }
        }
      }
    }
  },
  "cells": [
    {
      "cell_type": "markdown",
      "metadata": {
        "id": "view-in-github",
        "colab_type": "text"
      },
      "source": [
        "<a href=\"https://colab.research.google.com/github/dre-zouhair/CV_DOSI/blob/main/CC.ipynb\" target=\"_parent\"><img src=\"https://colab.research.google.com/assets/colab-badge.svg\" alt=\"Open In Colab\"/></a>"
      ]
    },
    {
      "cell_type": "code",
      "metadata": {
        "id": "C7yK6OClRCo4"
      },
      "source": [
        "#!pip install pycaret"
      ],
      "execution_count": 1,
      "outputs": []
    },
    {
      "cell_type": "code",
      "metadata": {
        "id": "7p18ZyyNNpYr"
      },
      "source": [
        "import numpy as np # linear algebra\r\n",
        "import pandas as pd # data processing, CSV file I/O (e.g. pd.read_csv)\r\n",
        "import seaborn as sns\r\n",
        "from matplotlib import pyplot as plt\r\n",
        "from sklearn.model_selection import train_test_split , GridSearchCV\r\n",
        "from sklearn.linear_model import LogisticRegression\r\n",
        "from sklearn.tree import DecisionTreeClassifier\r\n",
        "from sklearn.ensemble import RandomForestClassifier\r\n",
        "from sklearn.neighbors import KNeighborsClassifier\r\n",
        "from sklearn.naive_bayes import GaussianNB\r\n",
        "import seaborn as sns\r\n",
        "sns.set_theme(style=\"darkgrid\")\r\n",
        "from pycaret.classification import *"
      ],
      "execution_count": 2,
      "outputs": []
    },
    {
      "cell_type": "code",
      "metadata": {
        "colab": {
          "base_uri": "https://localhost:8080/"
        },
        "id": "WkFgjD9NjdAQ",
        "outputId": "487ecd0e-076b-4688-8aa4-242b7d530ad5"
      },
      "source": [
        "from google.colab import drive\n",
        "drive.mount('/content/drive')"
      ],
      "execution_count": 3,
      "outputs": [
        {
          "output_type": "stream",
          "text": [
            "Drive already mounted at /content/drive; to attempt to forcibly remount, call drive.mount(\"/content/drive\", force_remount=True).\n"
          ],
          "name": "stdout"
        }
      ]
    },
    {
      "cell_type": "code",
      "metadata": {
        "id": "V_6MawudOd9a"
      },
      "source": [
        "data_raw = pd.read_csv(\"/content/drive/MyDrive/cardio_train.csv\", sep=\";\")"
      ],
      "execution_count": 4,
      "outputs": []
    },
    {
      "cell_type": "code",
      "metadata": {
        "colab": {
          "base_uri": "https://localhost:8080/"
        },
        "id": "Nn2yh35HVkL2",
        "outputId": "7205e37e-e861-485b-dc51-ff61cbf3325d"
      },
      "source": [
        "data_raw.info()"
      ],
      "execution_count": 5,
      "outputs": [
        {
          "output_type": "stream",
          "text": [
            "<class 'pandas.core.frame.DataFrame'>\n",
            "RangeIndex: 70000 entries, 0 to 69999\n",
            "Data columns (total 13 columns):\n",
            " #   Column       Non-Null Count  Dtype  \n",
            "---  ------       --------------  -----  \n",
            " 0   id           70000 non-null  int64  \n",
            " 1   age          70000 non-null  int64  \n",
            " 2   gender       70000 non-null  int64  \n",
            " 3   height       70000 non-null  int64  \n",
            " 4   weight       70000 non-null  float64\n",
            " 5   ap_hi        70000 non-null  int64  \n",
            " 6   ap_lo        70000 non-null  int64  \n",
            " 7   cholesterol  70000 non-null  int64  \n",
            " 8   gluc         70000 non-null  int64  \n",
            " 9   smoke        70000 non-null  int64  \n",
            " 10  alco         70000 non-null  int64  \n",
            " 11  active       70000 non-null  int64  \n",
            " 12  cardio       70000 non-null  int64  \n",
            "dtypes: float64(1), int64(12)\n",
            "memory usage: 6.9 MB\n"
          ],
          "name": "stdout"
        }
      ]
    },
    {
      "cell_type": "code",
      "metadata": {
        "colab": {
          "base_uri": "https://localhost:8080/"
        },
        "id": "JE0IIXQvQRLx",
        "outputId": "dab6975a-03aa-4622-84ab-aaa2b3c76670"
      },
      "source": [
        "#lal\r\n",
        "print([columns for column in data_raw.columns if data_raw[column].isnull().sum()>0])"
      ],
      "execution_count": 6,
      "outputs": [
        {
          "output_type": "stream",
          "text": [
            "[]\n"
          ],
          "name": "stdout"
        }
      ]
    },
    {
      "cell_type": "code",
      "metadata": {
        "colab": {
          "base_uri": "https://localhost:8080/"
        },
        "id": "jHeAEqAgVHJh",
        "outputId": "cc756273-b16c-474f-f468-08a3dbc78a92"
      },
      "source": [
        "data_raw.shape"
      ],
      "execution_count": 7,
      "outputs": [
        {
          "output_type": "execute_result",
          "data": {
            "text/plain": [
              "(70000, 13)"
            ]
          },
          "metadata": {
            "tags": []
          },
          "execution_count": 7
        }
      ]
    },
    {
      "cell_type": "code",
      "metadata": {
        "id": "qnTV3VNeQ_sI"
      },
      "source": [
        "data_raw.gender = data_raw.gender % 2"
      ],
      "execution_count": 8,
      "outputs": []
    },
    {
      "cell_type": "code",
      "metadata": {
        "colab": {
          "base_uri": "https://localhost:8080/",
          "height": 204
        },
        "id": "7US9ETQLRr-e",
        "outputId": "0eb6952e-89dd-414f-d555-1f5223209799"
      },
      "source": [
        "data_raw.head()"
      ],
      "execution_count": 9,
      "outputs": [
        {
          "output_type": "execute_result",
          "data": {
            "text/html": [
              "<div>\n",
              "<style scoped>\n",
              "    .dataframe tbody tr th:only-of-type {\n",
              "        vertical-align: middle;\n",
              "    }\n",
              "\n",
              "    .dataframe tbody tr th {\n",
              "        vertical-align: top;\n",
              "    }\n",
              "\n",
              "    .dataframe thead th {\n",
              "        text-align: right;\n",
              "    }\n",
              "</style>\n",
              "<table border=\"1\" class=\"dataframe\">\n",
              "  <thead>\n",
              "    <tr style=\"text-align: right;\">\n",
              "      <th></th>\n",
              "      <th>id</th>\n",
              "      <th>age</th>\n",
              "      <th>gender</th>\n",
              "      <th>height</th>\n",
              "      <th>weight</th>\n",
              "      <th>ap_hi</th>\n",
              "      <th>ap_lo</th>\n",
              "      <th>cholesterol</th>\n",
              "      <th>gluc</th>\n",
              "      <th>smoke</th>\n",
              "      <th>alco</th>\n",
              "      <th>active</th>\n",
              "      <th>cardio</th>\n",
              "    </tr>\n",
              "  </thead>\n",
              "  <tbody>\n",
              "    <tr>\n",
              "      <th>0</th>\n",
              "      <td>0</td>\n",
              "      <td>18393</td>\n",
              "      <td>0</td>\n",
              "      <td>168</td>\n",
              "      <td>62.0</td>\n",
              "      <td>110</td>\n",
              "      <td>80</td>\n",
              "      <td>1</td>\n",
              "      <td>1</td>\n",
              "      <td>0</td>\n",
              "      <td>0</td>\n",
              "      <td>1</td>\n",
              "      <td>0</td>\n",
              "    </tr>\n",
              "    <tr>\n",
              "      <th>1</th>\n",
              "      <td>1</td>\n",
              "      <td>20228</td>\n",
              "      <td>1</td>\n",
              "      <td>156</td>\n",
              "      <td>85.0</td>\n",
              "      <td>140</td>\n",
              "      <td>90</td>\n",
              "      <td>3</td>\n",
              "      <td>1</td>\n",
              "      <td>0</td>\n",
              "      <td>0</td>\n",
              "      <td>1</td>\n",
              "      <td>1</td>\n",
              "    </tr>\n",
              "    <tr>\n",
              "      <th>2</th>\n",
              "      <td>2</td>\n",
              "      <td>18857</td>\n",
              "      <td>1</td>\n",
              "      <td>165</td>\n",
              "      <td>64.0</td>\n",
              "      <td>130</td>\n",
              "      <td>70</td>\n",
              "      <td>3</td>\n",
              "      <td>1</td>\n",
              "      <td>0</td>\n",
              "      <td>0</td>\n",
              "      <td>0</td>\n",
              "      <td>1</td>\n",
              "    </tr>\n",
              "    <tr>\n",
              "      <th>3</th>\n",
              "      <td>3</td>\n",
              "      <td>17623</td>\n",
              "      <td>0</td>\n",
              "      <td>169</td>\n",
              "      <td>82.0</td>\n",
              "      <td>150</td>\n",
              "      <td>100</td>\n",
              "      <td>1</td>\n",
              "      <td>1</td>\n",
              "      <td>0</td>\n",
              "      <td>0</td>\n",
              "      <td>1</td>\n",
              "      <td>1</td>\n",
              "    </tr>\n",
              "    <tr>\n",
              "      <th>4</th>\n",
              "      <td>4</td>\n",
              "      <td>17474</td>\n",
              "      <td>1</td>\n",
              "      <td>156</td>\n",
              "      <td>56.0</td>\n",
              "      <td>100</td>\n",
              "      <td>60</td>\n",
              "      <td>1</td>\n",
              "      <td>1</td>\n",
              "      <td>0</td>\n",
              "      <td>0</td>\n",
              "      <td>0</td>\n",
              "      <td>0</td>\n",
              "    </tr>\n",
              "  </tbody>\n",
              "</table>\n",
              "</div>"
            ],
            "text/plain": [
              "   id    age  gender  height  weight  ap_hi  ap_lo  cholesterol  gluc  smoke  \\\n",
              "0   0  18393       0     168    62.0    110     80            1     1      0   \n",
              "1   1  20228       1     156    85.0    140     90            3     1      0   \n",
              "2   2  18857       1     165    64.0    130     70            3     1      0   \n",
              "3   3  17623       0     169    82.0    150    100            1     1      0   \n",
              "4   4  17474       1     156    56.0    100     60            1     1      0   \n",
              "\n",
              "   alco  active  cardio  \n",
              "0     0       1       0  \n",
              "1     0       1       1  \n",
              "2     0       0       1  \n",
              "3     0       1       1  \n",
              "4     0       0       0  "
            ]
          },
          "metadata": {
            "tags": []
          },
          "execution_count": 9
        }
      ]
    },
    {
      "cell_type": "code",
      "metadata": {
        "id": "6Rn3pvC2R_0d"
      },
      "source": [
        "data_raw.drop(columns=['id'], inplace=True)"
      ],
      "execution_count": 10,
      "outputs": []
    },
    {
      "cell_type": "code",
      "metadata": {
        "colab": {
          "base_uri": "https://localhost:8080/",
          "height": 204
        },
        "id": "CDnMtKPfSOTR",
        "outputId": "d0e7a8fa-f966-43c4-fd1e-060484342921"
      },
      "source": [
        "data_raw.head()"
      ],
      "execution_count": 11,
      "outputs": [
        {
          "output_type": "execute_result",
          "data": {
            "text/html": [
              "<div>\n",
              "<style scoped>\n",
              "    .dataframe tbody tr th:only-of-type {\n",
              "        vertical-align: middle;\n",
              "    }\n",
              "\n",
              "    .dataframe tbody tr th {\n",
              "        vertical-align: top;\n",
              "    }\n",
              "\n",
              "    .dataframe thead th {\n",
              "        text-align: right;\n",
              "    }\n",
              "</style>\n",
              "<table border=\"1\" class=\"dataframe\">\n",
              "  <thead>\n",
              "    <tr style=\"text-align: right;\">\n",
              "      <th></th>\n",
              "      <th>age</th>\n",
              "      <th>gender</th>\n",
              "      <th>height</th>\n",
              "      <th>weight</th>\n",
              "      <th>ap_hi</th>\n",
              "      <th>ap_lo</th>\n",
              "      <th>cholesterol</th>\n",
              "      <th>gluc</th>\n",
              "      <th>smoke</th>\n",
              "      <th>alco</th>\n",
              "      <th>active</th>\n",
              "      <th>cardio</th>\n",
              "    </tr>\n",
              "  </thead>\n",
              "  <tbody>\n",
              "    <tr>\n",
              "      <th>0</th>\n",
              "      <td>18393</td>\n",
              "      <td>0</td>\n",
              "      <td>168</td>\n",
              "      <td>62.0</td>\n",
              "      <td>110</td>\n",
              "      <td>80</td>\n",
              "      <td>1</td>\n",
              "      <td>1</td>\n",
              "      <td>0</td>\n",
              "      <td>0</td>\n",
              "      <td>1</td>\n",
              "      <td>0</td>\n",
              "    </tr>\n",
              "    <tr>\n",
              "      <th>1</th>\n",
              "      <td>20228</td>\n",
              "      <td>1</td>\n",
              "      <td>156</td>\n",
              "      <td>85.0</td>\n",
              "      <td>140</td>\n",
              "      <td>90</td>\n",
              "      <td>3</td>\n",
              "      <td>1</td>\n",
              "      <td>0</td>\n",
              "      <td>0</td>\n",
              "      <td>1</td>\n",
              "      <td>1</td>\n",
              "    </tr>\n",
              "    <tr>\n",
              "      <th>2</th>\n",
              "      <td>18857</td>\n",
              "      <td>1</td>\n",
              "      <td>165</td>\n",
              "      <td>64.0</td>\n",
              "      <td>130</td>\n",
              "      <td>70</td>\n",
              "      <td>3</td>\n",
              "      <td>1</td>\n",
              "      <td>0</td>\n",
              "      <td>0</td>\n",
              "      <td>0</td>\n",
              "      <td>1</td>\n",
              "    </tr>\n",
              "    <tr>\n",
              "      <th>3</th>\n",
              "      <td>17623</td>\n",
              "      <td>0</td>\n",
              "      <td>169</td>\n",
              "      <td>82.0</td>\n",
              "      <td>150</td>\n",
              "      <td>100</td>\n",
              "      <td>1</td>\n",
              "      <td>1</td>\n",
              "      <td>0</td>\n",
              "      <td>0</td>\n",
              "      <td>1</td>\n",
              "      <td>1</td>\n",
              "    </tr>\n",
              "    <tr>\n",
              "      <th>4</th>\n",
              "      <td>17474</td>\n",
              "      <td>1</td>\n",
              "      <td>156</td>\n",
              "      <td>56.0</td>\n",
              "      <td>100</td>\n",
              "      <td>60</td>\n",
              "      <td>1</td>\n",
              "      <td>1</td>\n",
              "      <td>0</td>\n",
              "      <td>0</td>\n",
              "      <td>0</td>\n",
              "      <td>0</td>\n",
              "    </tr>\n",
              "  </tbody>\n",
              "</table>\n",
              "</div>"
            ],
            "text/plain": [
              "     age  gender  height  weight  ap_hi  ap_lo  cholesterol  gluc  smoke  \\\n",
              "0  18393       0     168    62.0    110     80            1     1      0   \n",
              "1  20228       1     156    85.0    140     90            3     1      0   \n",
              "2  18857       1     165    64.0    130     70            3     1      0   \n",
              "3  17623       0     169    82.0    150    100            1     1      0   \n",
              "4  17474       1     156    56.0    100     60            1     1      0   \n",
              "\n",
              "   alco  active  cardio  \n",
              "0     0       1       0  \n",
              "1     0       1       1  \n",
              "2     0       0       1  \n",
              "3     0       1       1  \n",
              "4     0       0       0  "
            ]
          },
          "metadata": {
            "tags": []
          },
          "execution_count": 11
        }
      ]
    },
    {
      "cell_type": "code",
      "metadata": {
        "id": "Ua6Rpem7SWOv"
      },
      "source": [
        "data_raw.drop_duplicates(keep = 'first', inplace = True)"
      ],
      "execution_count": 12,
      "outputs": []
    },
    {
      "cell_type": "code",
      "metadata": {
        "colab": {
          "base_uri": "https://localhost:8080/"
        },
        "id": "C3sMefGvU3dj",
        "outputId": "c407d176-9719-48d3-82df-785fe9f3c184"
      },
      "source": [
        "data_raw.shape"
      ],
      "execution_count": 13,
      "outputs": [
        {
          "output_type": "execute_result",
          "data": {
            "text/plain": [
              "(69976, 12)"
            ]
          },
          "metadata": {
            "tags": []
          },
          "execution_count": 13
        }
      ]
    },
    {
      "cell_type": "code",
      "metadata": {
        "colab": {
          "base_uri": "https://localhost:8080/"
        },
        "id": "WfGHspVoT2el",
        "outputId": "7f0159ae-da42-4de4-9a0d-96e61486dce0"
      },
      "source": [
        "print('min age : {}, max age : {}'.format(data_raw.age.min()/365.25,data_raw.age.max()/365.25))"
      ],
      "execution_count": 14,
      "outputs": [
        {
          "output_type": "stream",
          "text": [
            "min age : 29.56331279945243, max age : 64.92265571526352\n"
          ],
          "name": "stdout"
        }
      ]
    },
    {
      "cell_type": "code",
      "metadata": {
        "colab": {
          "base_uri": "https://localhost:8080/",
          "height": 49
        },
        "id": "qam8Vh7fsXqg",
        "outputId": "a91315f8-652a-481f-bf0e-5a77cca5d60f"
      },
      "source": [
        "data_raw[data_raw.height <= 0 ] == True"
      ],
      "execution_count": 15,
      "outputs": [
        {
          "output_type": "execute_result",
          "data": {
            "text/html": [
              "<div>\n",
              "<style scoped>\n",
              "    .dataframe tbody tr th:only-of-type {\n",
              "        vertical-align: middle;\n",
              "    }\n",
              "\n",
              "    .dataframe tbody tr th {\n",
              "        vertical-align: top;\n",
              "    }\n",
              "\n",
              "    .dataframe thead th {\n",
              "        text-align: right;\n",
              "    }\n",
              "</style>\n",
              "<table border=\"1\" class=\"dataframe\">\n",
              "  <thead>\n",
              "    <tr style=\"text-align: right;\">\n",
              "      <th></th>\n",
              "      <th>age</th>\n",
              "      <th>gender</th>\n",
              "      <th>height</th>\n",
              "      <th>weight</th>\n",
              "      <th>ap_hi</th>\n",
              "      <th>ap_lo</th>\n",
              "      <th>cholesterol</th>\n",
              "      <th>gluc</th>\n",
              "      <th>smoke</th>\n",
              "      <th>alco</th>\n",
              "      <th>active</th>\n",
              "      <th>cardio</th>\n",
              "    </tr>\n",
              "  </thead>\n",
              "  <tbody>\n",
              "  </tbody>\n",
              "</table>\n",
              "</div>"
            ],
            "text/plain": [
              "Empty DataFrame\n",
              "Columns: [age, gender, height, weight, ap_hi, ap_lo, cholesterol, gluc, smoke, alco, active, cardio]\n",
              "Index: []"
            ]
          },
          "metadata": {
            "tags": []
          },
          "execution_count": 15
        }
      ]
    },
    {
      "cell_type": "code",
      "metadata": {
        "colab": {
          "base_uri": "https://localhost:8080/",
          "height": 49
        },
        "id": "7nh-L78ks0Op",
        "outputId": "742cd626-63f3-4d42-9e53-b17fcba9c4d4"
      },
      "source": [
        "data_raw[data_raw.weight <= 0 ] == True"
      ],
      "execution_count": 16,
      "outputs": [
        {
          "output_type": "execute_result",
          "data": {
            "text/html": [
              "<div>\n",
              "<style scoped>\n",
              "    .dataframe tbody tr th:only-of-type {\n",
              "        vertical-align: middle;\n",
              "    }\n",
              "\n",
              "    .dataframe tbody tr th {\n",
              "        vertical-align: top;\n",
              "    }\n",
              "\n",
              "    .dataframe thead th {\n",
              "        text-align: right;\n",
              "    }\n",
              "</style>\n",
              "<table border=\"1\" class=\"dataframe\">\n",
              "  <thead>\n",
              "    <tr style=\"text-align: right;\">\n",
              "      <th></th>\n",
              "      <th>age</th>\n",
              "      <th>gender</th>\n",
              "      <th>height</th>\n",
              "      <th>weight</th>\n",
              "      <th>ap_hi</th>\n",
              "      <th>ap_lo</th>\n",
              "      <th>cholesterol</th>\n",
              "      <th>gluc</th>\n",
              "      <th>smoke</th>\n",
              "      <th>alco</th>\n",
              "      <th>active</th>\n",
              "      <th>cardio</th>\n",
              "    </tr>\n",
              "  </thead>\n",
              "  <tbody>\n",
              "  </tbody>\n",
              "</table>\n",
              "</div>"
            ],
            "text/plain": [
              "Empty DataFrame\n",
              "Columns: [age, gender, height, weight, ap_hi, ap_lo, cholesterol, gluc, smoke, alco, active, cardio]\n",
              "Index: []"
            ]
          },
          "metadata": {
            "tags": []
          },
          "execution_count": 16
        }
      ]
    },
    {
      "cell_type": "code",
      "metadata": {
        "id": "dLTpNIELXNTc"
      },
      "source": [
        "data_raw[\"bmi\"] = data_raw.weight / ((data_raw.height/100) ** 2 )"
      ],
      "execution_count": 17,
      "outputs": []
    },
    {
      "cell_type": "code",
      "metadata": {
        "colab": {
          "base_uri": "https://localhost:8080/"
        },
        "id": "rBni4y_4Xku6",
        "outputId": "127d51c6-3514-4008-80ae-8e88d48f95ad"
      },
      "source": [
        "data_raw.shape"
      ],
      "execution_count": 18,
      "outputs": [
        {
          "output_type": "execute_result",
          "data": {
            "text/plain": [
              "(69976, 13)"
            ]
          },
          "metadata": {
            "tags": []
          },
          "execution_count": 18
        }
      ]
    },
    {
      "cell_type": "code",
      "metadata": {
        "colab": {
          "base_uri": "https://localhost:8080/",
          "height": 302
        },
        "id": "BXf-Dtyme8NX",
        "outputId": "4489960e-6210-43c5-a7b4-321f1ea61b89"
      },
      "source": [
        "sns.distplot(data_raw.age)"
      ],
      "execution_count": 19,
      "outputs": [
        {
          "output_type": "execute_result",
          "data": {
            "text/plain": [
              "<matplotlib.axes._subplots.AxesSubplot at 0x7f2a7d6c6ba8>"
            ]
          },
          "metadata": {
            "tags": []
          },
          "execution_count": 19
        },
        {
          "output_type": "display_data",
          "data": {
            "image/png": "[encoded data removed]",
            "text/plain": [
              "<Figure size 432x288 with 1 Axes>"
            ]
          },
          "metadata": {
            "tags": []
          }
        }
      ]
    },
    {
      "cell_type": "code",
      "metadata": {
        "colab": {
          "base_uri": "https://localhost:8080/"
        },
        "id": "_VUJVqgY33XQ",
        "outputId": "53ad2895-91f7-4e4f-a939-96651b3e547b"
      },
      "source": [
        "data_raw[\"age_years\"] = (data_raw.age / 365).apply(lambda x: int(x))\r\n",
        "data_raw.info()"
      ],
      "execution_count": 20,
      "outputs": [
        {
          "output_type": "stream",
          "text": [
            "<class 'pandas.core.frame.DataFrame'>\n",
            "Int64Index: 69976 entries, 0 to 69999\n",
            "Data columns (total 14 columns):\n",
            " #   Column       Non-Null Count  Dtype  \n",
            "---  ------       --------------  -----  \n",
            " 0   age          69976 non-null  int64  \n",
            " 1   gender       69976 non-null  int64  \n",
            " 2   height       69976 non-null  int64  \n",
            " 3   weight       69976 non-null  float64\n",
            " 4   ap_hi        69976 non-null  int64  \n",
            " 5   ap_lo        69976 non-null  int64  \n",
            " 6   cholesterol  69976 non-null  int64  \n",
            " 7   gluc         69976 non-null  int64  \n",
            " 8   smoke        69976 non-null  int64  \n",
            " 9   alco         69976 non-null  int64  \n",
            " 10  active       69976 non-null  int64  \n",
            " 11  cardio       69976 non-null  int64  \n",
            " 12  bmi          69976 non-null  float64\n",
            " 13  age_years    69976 non-null  int64  \n",
            "dtypes: float64(2), int64(12)\n",
            "memory usage: 8.0 MB\n"
          ],
          "name": "stdout"
        }
      ]
    },
    {
      "cell_type": "code",
      "metadata": {
        "colab": {
          "base_uri": "https://localhost:8080/",
          "height": 566
        },
        "id": "hav79md95UbO",
        "outputId": "8cec1490-68b0-4fb0-8c7e-3bebc270fe81"
      },
      "source": [
        "fig = plt.figure(figsize=(16,8))\r\n",
        "sns.distplot(pd.Series(data_raw.age[data_raw.gender == 0]))\r\n",
        "sns.distplot(pd.Series(data_raw.age[data_raw.gender == 1]))\r\n",
        "fig.legend(labels=['Hommes','Femmes'])\r\n",
        "plt.show()"
      ],
      "execution_count": 21,
      "outputs": [
        {
          "output_type": "display_data",
          "data": {
            "image/png": "[encoded data removed]",
            "text/plain": [
              "<Figure size 1152x576 with 1 Axes>"
            ]
          },
          "metadata": {
            "tags": []
          }
        }
      ]
    },
    {
      "cell_type": "code",
      "metadata": {
        "colab": {
          "base_uri": "https://localhost:8080/",
          "height": 876
        },
        "id": "9jaCDWvv6Ay2",
        "outputId": "232a25a6-5c3b-4bb9-912f-5bb47bd58538"
      },
      "source": [
        "pie_data  =  data_raw.age_years.value_counts().tolist()\r\n",
        "pie_labels  = data_raw.age_years.value_counts().index.tolist()\r\n",
        "fig1, ax1 = plt.subplots(figsize=(15,15))\r\n",
        "ax1.pie(pie_data, labels=pie_labels, autopct='%1.1f%%',\r\n",
        "        shadow=False, startangle=90)\r\n",
        "ax1.axis('equal') \r\n",
        "\r\n",
        "plt.show()"
      ],
      "execution_count": 22,
      "outputs": [
        {
          "output_type": "display_data",
          "data": {
            "image/png": "[encoded data removed]",
            "text/plain": [
              "<Figure size 1080x1080 with 1 Axes>"
            ]
          },
          "metadata": {
            "tags": []
          }
        }
      ]
    },
    {
      "cell_type": "markdown",
      "metadata": {
        "id": "EJw9_1d6utfL"
      },
      "source": [
        "**What are Outlier ?**</br>\r\n",
        "An Outlier is a data point that differs significantly from other observations.\r\n",
        "This is formatted as code\r\n",
        "\r\n",
        "An outlier may be due to variability in the measurement or it may indicate experimental error.\r\n",
        "\r\n",
        "An outlier can cause serious problems in statistical analyses and prediction.\r\n",
        "\r\n",
        "Detecting Outliers</br>\r\n",
        "Detecting outlier and handling them can increase our accuracy score."
      ]
    },
    {
      "cell_type": "code",
      "metadata": {
        "id": "-cWfvPxMxPdQ"
      },
      "source": [
        "def standartization(x,s_list):\r\n",
        "    x_std = x.copy(deep=True)\r\n",
        "    for column in s_list:\r\n",
        "        x_std[column] = (x_std[column]-x_std[column].mean())/x_std[column].std()\r\n",
        "    return x_std\r\n",
        "def outilier_draw(data_raw):\r\n",
        "  x = data_raw.copy(deep=True)\r\n",
        "  s_list = [\"age\", \"height\", \"weight\", \"ap_hi\", \"ap_lo\",\"bmi\"]\r\n",
        "  x_std=standartization(x,s_list)\r\n",
        "  x_melted = pd.melt(frame=x_std, id_vars=\"cardio\", value_vars=s_list, var_name=\"features\", value_name=\"value\", col_level=None)\r\n",
        "  return x_melted"
      ],
      "execution_count": 23,
      "outputs": []
    },
    {
      "cell_type": "code",
      "metadata": {
        "colab": {
          "base_uri": "https://localhost:8080/",
          "height": 927
        },
        "id": "LSPCYAmspri6",
        "outputId": "b13d155c-0ae1-4021-c0e9-42bca645ae0f"
      },
      "source": [
        "plt.figure(figsize=(15,15))\r\n",
        "sns.boxplot(x=\"features\", y=\"value\", hue=\"cardio\", data=outilier_draw(data_raw))\r\n",
        "plt.xticks(rotation=90)"
      ],
      "execution_count": 24,
      "outputs": [
        {
          "output_type": "execute_result",
          "data": {
            "text/plain": [
              "(array([0, 1, 2, 3, 4, 5]), <a list of 6 Text major ticklabel objects>)"
            ]
          },
          "metadata": {
            "tags": []
          },
          "execution_count": 24
        },
        {
          "output_type": "display_data",
          "data": {
            "image/png": "[encoded data removed]",
            "text/plain": [
              "<Figure size 1080x1080 with 1 Axes>"
            ]
          },
          "metadata": {
            "tags": []
          }
        }
      ]
    },
    {
      "cell_type": "markdown",
      "metadata": {
        "id": "ur8M0mVQp-2B"
      },
      "source": [
        "* There are some outliers in the dataset, but as seen above there is an unusual outlier in ap_hi and ap_lo features.\r\n",
        "* Let us calculate the low bound and hi bound of ap_lo and ap_hi features"
      ]
    },
    {
      "cell_type": "code",
      "metadata": {
        "colab": {
          "base_uri": "https://localhost:8080/",
          "height": 111
        },
        "id": "qxWNYOJVqG_r",
        "outputId": "4f800a44-7de1-475e-9bb2-39e52b7ad157"
      },
      "source": [
        "ap_list = [\"ap_hi\", \"ap_lo\",\"bmi\"]\r\n",
        "boundary = pd.DataFrame(index=[\"lower_bound\",\"upper_bound\"]) # We created an empty dataframe\r\n",
        "x = data_raw.copy(deep=True)\r\n",
        "for each in ap_list:\r\n",
        "    Q1 = x[each].quantile(0.25)\r\n",
        "    Q3 = x[each].quantile(0.75)\r\n",
        "    IQR = Q3 - Q1\r\n",
        "\r\n",
        "    lower_bound = Q1- 1.5*IQR\r\n",
        "    upper_bound = Q3 + 1.5*IQR\r\n",
        "    boundary[each] = [lower_bound, upper_bound ]\r\n",
        "boundary"
      ],
      "execution_count": 25,
      "outputs": [
        {
          "output_type": "execute_result",
          "data": {
            "text/html": [
              "<div>\n",
              "<style scoped>\n",
              "    .dataframe tbody tr th:only-of-type {\n",
              "        vertical-align: middle;\n",
              "    }\n",
              "\n",
              "    .dataframe tbody tr th {\n",
              "        vertical-align: top;\n",
              "    }\n",
              "\n",
              "    .dataframe thead th {\n",
              "        text-align: right;\n",
              "    }\n",
              "</style>\n",
              "<table border=\"1\" class=\"dataframe\">\n",
              "  <thead>\n",
              "    <tr style=\"text-align: right;\">\n",
              "      <th></th>\n",
              "      <th>ap_hi</th>\n",
              "      <th>ap_lo</th>\n",
              "      <th>bmi</th>\n",
              "    </tr>\n",
              "  </thead>\n",
              "  <tbody>\n",
              "    <tr>\n",
              "      <th>lower_bound</th>\n",
              "      <td>90.0</td>\n",
              "      <td>65.0</td>\n",
              "      <td>14.354454</td>\n",
              "    </tr>\n",
              "    <tr>\n",
              "      <th>upper_bound</th>\n",
              "      <td>170.0</td>\n",
              "      <td>105.0</td>\n",
              "      <td>39.742883</td>\n",
              "    </tr>\n",
              "  </tbody>\n",
              "</table>\n",
              "</div>"
            ],
            "text/plain": [
              "             ap_hi  ap_lo        bmi\n",
              "lower_bound   90.0   65.0  14.354454\n",
              "upper_bound  170.0  105.0  39.742883"
            ]
          },
          "metadata": {
            "tags": []
          },
          "execution_count": 25
        }
      ]
    },
    {
      "cell_type": "markdown",
      "metadata": {
        "id": "KIR1qntrqY6Y"
      },
      "source": [
        "* We can select the index of outlier data by using boundaries we calculated.\r\n",
        "* Normally we should analyze both upper outliers and below outliers but in this case, I consider to handle just uppers because of their extremely higher values."
      ]
    },
    {
      "cell_type": "code",
      "metadata": {
        "colab": {
          "base_uri": "https://localhost:8080/"
        },
        "id": "0ilnqpSwqfOJ",
        "outputId": "06a3e24f-25dc-49da-f89c-c958b7e07f24"
      },
      "source": [
        "ap_hi_filter = (x[\"ap_hi\"] > boundary[\"ap_hi\"][1])\r\n",
        "ap_lo_filter = (x[\"ap_lo\"] > boundary[\"ap_lo\"][1])                                                           \r\n",
        "bmi_filter = (x[\"bmi\"] > boundary[\"bmi\"][1])                                                           \r\n",
        "outlier_filter = (ap_hi_filter | ap_lo_filter | bmi_filter)\r\n",
        "x_outliers = x[outlier_filter]\r\n",
        "# count values \r\n",
        "x_outliers[\"cardio\"].value_counts()"
      ],
      "execution_count": 26,
      "outputs": [
        {
          "output_type": "execute_result",
          "data": {
            "text/plain": [
              "1    3222\n",
              "0     972\n",
              "Name: cardio, dtype: int64"
            ]
          },
          "metadata": {
            "tags": []
          },
          "execution_count": 26
        }
      ]
    },
    {
      "cell_type": "code",
      "metadata": {
        "colab": {
          "base_uri": "https://localhost:8080/"
        },
        "id": "N6orTzayrwsU",
        "outputId": "ea3fe305-7595-46db-c046-3af79ce4a375"
      },
      "source": [
        "2397/(2397+799)"
      ],
      "execution_count": 27,
      "outputs": [
        {
          "output_type": "execute_result",
          "data": {
            "text/plain": [
              "0.75"
            ]
          },
          "metadata": {
            "tags": []
          },
          "execution_count": 27
        }
      ]
    },
    {
      "cell_type": "markdown",
      "metadata": {
        "id": "YqISNhbEqwbd"
      },
      "source": [
        "* Cardiovascular disease is present in 75 percent of the ap_hi and ap_lo and bmi outlier data,\r\n",
        "* Because of ap_hi and ap_lo and bmi symbolizes high blood pressure, the high rate of disease is consistent with real life.\r\n",
        "* For this reason, I decided to drop just medically impossible data from the dataset.\r\n",
        "* And I have dropped some of data because we have sufficent data (70000) otherwise I would try to handle them by assigning new values."
      ]
    },
    {
      "cell_type": "code",
      "metadata": {
        "colab": {
          "base_uri": "https://localhost:8080/",
          "height": 302
        },
        "id": "LQpZ81auzJrw",
        "outputId": "ee507f50-85e0-4192-e72a-9f721ba66272"
      },
      "source": [
        "sns.countplot(x='cardio',data=x_outliers,linewidth=2,edgecolor=sns.color_palette(\"dark\", 1))"
      ],
      "execution_count": 28,
      "outputs": [
        {
          "output_type": "execute_result",
          "data": {
            "text/plain": [
              "<matplotlib.axes._subplots.AxesSubplot at 0x7f2a7966b2e8>"
            ]
          },
          "metadata": {
            "tags": []
          },
          "execution_count": 28
        },
        {
          "output_type": "display_data",
          "data": {
            "image/png": "[encoded data removed]",
            "text/plain": [
              "<Figure size 432x288 with 1 Axes>"
            ]
          },
          "metadata": {
            "tags": []
          }
        }
      ]
    },
    {
      "cell_type": "code",
      "metadata": {
        "id": "13yHJ-Dc0uZ6"
      },
      "source": [
        "#removing blod pressure\r\n",
        "data_raw = data_raw[(0 < data_raw.ap_lo) & (data_raw.ap_lo < data_raw.ap_hi) & (data_raw.ap_lo< 200) & (data_raw.ap_hi < 250) & (data_raw.bmi < 100 )  & (data_raw.height > 57 ) ]"
      ],
      "execution_count": 29,
      "outputs": []
    },
    {
      "cell_type": "code",
      "metadata": {
        "colab": {
          "base_uri": "https://localhost:8080/",
          "height": 927
        },
        "id": "akUfwcuxx1-G",
        "outputId": "a3f84cab-0969-4449-a9c3-e008cf013528"
      },
      "source": [
        "plt.figure(figsize=(15,15))\r\n",
        "sns.boxplot(x=\"features\", y=\"value\", hue=\"cardio\", data=outilier_draw(data_raw))\r\n",
        "plt.xticks(rotation=90)"
      ],
      "execution_count": 30,
      "outputs": [
        {
          "output_type": "execute_result",
          "data": {
            "text/plain": [
              "(array([0, 1, 2, 3, 4, 5]), <a list of 6 Text major ticklabel objects>)"
            ]
          },
          "metadata": {
            "tags": []
          },
          "execution_count": 30
        },
        {
          "output_type": "display_data",
          "data": {
            "image/png": "[encoded data removed]",
            "text/plain": [
              "<Figure size 1080x1080 with 1 Axes>"
            ]
          },
          "metadata": {
            "tags": []
          }
        }
      ]
    },
    {
      "cell_type": "code",
      "metadata": {
        "colab": {
          "base_uri": "https://localhost:8080/",
          "height": 302
        },
        "id": "-PtNJVMwBIW5",
        "outputId": "eb235e85-8c84-4d8d-e143-fb733a09a109"
      },
      "source": [
        "sns.lineplot(x=\"smoke\", y=\"cardio\",hue=\"active\",data=data_raw)"
      ],
      "execution_count": 31,
      "outputs": [
        {
          "output_type": "execute_result",
          "data": {
            "text/plain": [
              "<matplotlib.axes._subplots.AxesSubplot at 0x7f2a77c95c18>"
            ]
          },
          "metadata": {
            "tags": []
          },
          "execution_count": 31
        },
        {
          "output_type": "display_data",
          "data": {
            "image/png": "[encoded data removed]",
            "text/plain": [
              "<Figure size 432x288 with 1 Axes>"
            ]
          },
          "metadata": {
            "tags": []
          }
        }
      ]
    },
    {
      "cell_type": "code",
      "metadata": {
        "colab": {
          "base_uri": "https://localhost:8080/",
          "height": 303
        },
        "id": "kRfzSI-ICabg",
        "outputId": "7165e151-26f7-455f-cecd-58a45b65ab49"
      },
      "source": [
        "sns.lineplot(x=\"alco\", y=\"cardio\",hue=\"active\",data=data_raw)"
      ],
      "execution_count": 32,
      "outputs": [
        {
          "output_type": "execute_result",
          "data": {
            "text/plain": [
              "<matplotlib.axes._subplots.AxesSubplot at 0x7f2a77ad0940>"
            ]
          },
          "metadata": {
            "tags": []
          },
          "execution_count": 32
        },
        {
          "output_type": "display_data",
          "data": {
            "image/png": "[encoded data removed]",
            "text/plain": [
              "<Figure size 432x288 with 1 Axes>"
            ]
          },
          "metadata": {
            "tags": []
          }
        }
      ]
    },
    {
      "cell_type": "code",
      "metadata": {
        "colab": {
          "base_uri": "https://localhost:8080/",
          "height": 302
        },
        "id": "SEfe3ZPgChm5",
        "outputId": "4080de4d-838f-43f5-c5d4-b8250f8fa902"
      },
      "source": [
        "sns.lineplot(x=\"smoke\", y=\"bmi\",hue=\"cardio\",data=data_raw)"
      ],
      "execution_count": 33,
      "outputs": [
        {
          "output_type": "execute_result",
          "data": {
            "text/plain": [
              "<matplotlib.axes._subplots.AxesSubplot at 0x7f2a77a8a048>"
            ]
          },
          "metadata": {
            "tags": []
          },
          "execution_count": 33
        },
        {
          "output_type": "display_data",
          "data": {
            "image/png": "[encoded data removed]",
            "text/plain": [
              "<Figure size 432x288 with 1 Axes>"
            ]
          },
          "metadata": {
            "tags": []
          }
        }
      ]
    },
    {
      "cell_type": "markdown",
      "metadata": {
        "id": "DLcXFRCEGfd6"
      },
      "source": [
        "**Preparing to modeling**\r\n"
      ]
    },
    {
      "cell_type": "code",
      "metadata": {
        "id": "PDQYW1ftG0bP"
      },
      "source": [
        "data_target = data_raw['cardio']\r\n",
        "data = data_raw.drop(['cardio','age','height','weight'], axis=1)"
      ],
      "execution_count": 34,
      "outputs": []
    },
    {
      "cell_type": "code",
      "metadata": {
        "id": "V4t_BMK3HIqz"
      },
      "source": [
        "train, test, target, target_test = train_test_split(data, data_target, test_size=0.1, random_state=0)"
      ],
      "execution_count": 35,
      "outputs": []
    },
    {
      "cell_type": "code",
      "metadata": {
        "colab": {
          "base_uri": "https://localhost:8080/"
        },
        "id": "KKWLa_jjH-O-",
        "outputId": "b9055cf0-dd55-4cd8-8425-dc6a5c3da80a"
      },
      "source": [
        "# Logistic Regression\r\n",
        "logreg = LogisticRegression()\r\n",
        "logreg.fit(train, target)\r\n",
        "acc_log = round(logreg.score(train, target) * 100, 2)\r\n",
        "acc_log"
      ],
      "execution_count": 36,
      "outputs": [
        {
          "output_type": "execute_result",
          "data": {
            "text/plain": [
              "68.76"
            ]
          },
          "metadata": {
            "tags": []
          },
          "execution_count": 36
        }
      ]
    },
    {
      "cell_type": "code",
      "metadata": {
        "colab": {
          "base_uri": "https://localhost:8080/"
        },
        "id": "dOhohlbdLa81",
        "outputId": "6b35bd45-09a2-45cf-9a09-d7e278d6f062"
      },
      "source": [
        "acc_test_log = round(logreg.score(test, target_test) * 100, 2)\r\n",
        "acc_test_log"
      ],
      "execution_count": 37,
      "outputs": [
        {
          "output_type": "execute_result",
          "data": {
            "text/plain": [
              "68.58"
            ]
          },
          "metadata": {
            "tags": []
          },
          "execution_count": 37
        }
      ]
    },
    {
      "cell_type": "code",
      "metadata": {
        "colab": {
          "base_uri": "https://localhost:8080/",
          "height": 359
        },
        "id": "FH2xHjkjMBx_",
        "outputId": "ad99eb6b-6c81-45a3-b853-d894144f4c34"
      },
      "source": [
        "coeff_df = pd.DataFrame(train.columns.delete(0))\r\n",
        "coeff_df.columns = ['Feature']\r\n",
        "coeff_df[\"Correlation\"] = pd.Series(logreg.coef_[0])\r\n",
        "coeff_df.sort_values(by='Correlation', ascending=False)\r\n",
        "coeff_df.set_index('Feature')"
      ],
      "execution_count": 38,
      "outputs": [
        {
          "output_type": "execute_result",
          "data": {
            "text/html": [
              "<div>\n",
              "<style scoped>\n",
              "    .dataframe tbody tr th:only-of-type {\n",
              "        vertical-align: middle;\n",
              "    }\n",
              "\n",
              "    .dataframe tbody tr th {\n",
              "        vertical-align: top;\n",
              "    }\n",
              "\n",
              "    .dataframe thead th {\n",
              "        text-align: right;\n",
              "    }\n",
              "</style>\n",
              "<table border=\"1\" class=\"dataframe\">\n",
              "  <thead>\n",
              "    <tr style=\"text-align: right;\">\n",
              "      <th></th>\n",
              "      <th>Correlation</th>\n",
              "    </tr>\n",
              "    <tr>\n",
              "      <th>Feature</th>\n",
              "      <th></th>\n",
              "    </tr>\n",
              "  </thead>\n",
              "  <tbody>\n",
              "    <tr>\n",
              "      <th>ap_hi</th>\n",
              "      <td>-0.116505</td>\n",
              "    </tr>\n",
              "    <tr>\n",
              "      <th>ap_lo</th>\n",
              "      <td>0.040658</td>\n",
              "    </tr>\n",
              "    <tr>\n",
              "      <th>cholesterol</th>\n",
              "      <td>-0.008108</td>\n",
              "    </tr>\n",
              "    <tr>\n",
              "      <th>gluc</th>\n",
              "      <td>0.553671</td>\n",
              "    </tr>\n",
              "    <tr>\n",
              "      <th>smoke</th>\n",
              "      <td>-0.094523</td>\n",
              "    </tr>\n",
              "    <tr>\n",
              "      <th>alco</th>\n",
              "      <td>-1.412548</td>\n",
              "    </tr>\n",
              "    <tr>\n",
              "      <th>active</th>\n",
              "      <td>-0.671909</td>\n",
              "    </tr>\n",
              "    <tr>\n",
              "      <th>bmi</th>\n",
              "      <td>-0.902906</td>\n",
              "    </tr>\n",
              "    <tr>\n",
              "      <th>age_years</th>\n",
              "      <td>0.018517</td>\n",
              "    </tr>\n",
              "  </tbody>\n",
              "</table>\n",
              "</div>"
            ],
            "text/plain": [
              "             Correlation\n",
              "Feature                 \n",
              "ap_hi          -0.116505\n",
              "ap_lo           0.040658\n",
              "cholesterol    -0.008108\n",
              "gluc            0.553671\n",
              "smoke          -0.094523\n",
              "alco           -1.412548\n",
              "active         -0.671909\n",
              "bmi            -0.902906\n",
              "age_years       0.018517"
            ]
          },
          "metadata": {
            "tags": []
          },
          "execution_count": 38
        }
      ]
    },
    {
      "cell_type": "code",
      "metadata": {
        "colab": {
          "base_uri": "https://localhost:8080/",
          "height": 268
        },
        "id": "WaUTzzUAOux1",
        "outputId": "e9597b5c-deae-481d-eb74-90b5c3f94071"
      },
      "source": [
        "#f, ax = plt.subplots(figsize = (15,15))\r\n",
        "#sns.heatmap(coeff_df, annot=True, fmt=\"g\", cmap='viridis')\r\n",
        "df = pd.DataFrame({\"correlation\": coeff_df.Correlation.tolist()},\r\n",
        "                  index=coeff_df.Feature)\r\n",
        "\r\n",
        "sns.heatmap(df, annot=True, fmt=\"g\", cmap='viridis')\r\n",
        "\r\n",
        "plt.show()"
      ],
      "execution_count": 39,
      "outputs": [
        {
          "output_type": "display_data",
          "data": {
            "image/png": "[encoded data removed]",
            "text/plain": [
              "<Figure size 432x288 with 2 Axes>"
            ]
          },
          "metadata": {
            "tags": []
          }
        }
      ]
    },
    {
      "cell_type": "code",
      "metadata": {
        "colab": {
          "base_uri": "https://localhost:8080/"
        },
        "id": "yeKvuJZUTrC7",
        "outputId": "8d6fa3b1-45ae-458b-e0f0-0395ca30d0e4"
      },
      "source": [
        "decision_tree = DecisionTreeClassifier()\r\n",
        "decision_tree.fit(train, target)\r\n",
        "acc_decision_tree = round(decision_tree.score(train, target) * 100, 2)\r\n",
        "acc_decision_tree"
      ],
      "execution_count": 40,
      "outputs": [
        {
          "output_type": "execute_result",
          "data": {
            "text/plain": [
              "97.82"
            ]
          },
          "metadata": {
            "tags": []
          },
          "execution_count": 40
        }
      ]
    },
    {
      "cell_type": "code",
      "metadata": {
        "colab": {
          "base_uri": "https://localhost:8080/"
        },
        "id": "BLau3k3TTsHd",
        "outputId": "71fd17fd-3a9a-4133-82d1-c3362db7de3f"
      },
      "source": [
        "acc_test_decision_tree = round(decision_tree.score(test, target_test) * 100, 2)\r\n",
        "acc_test_decision_tree"
      ],
      "execution_count": 41,
      "outputs": [
        {
          "output_type": "execute_result",
          "data": {
            "text/plain": [
              "64.43"
            ]
          },
          "metadata": {
            "tags": []
          },
          "execution_count": 41
        }
      ]
    },
    {
      "cell_type": "code",
      "metadata": {
        "colab": {
          "base_uri": "https://localhost:8080/"
        },
        "id": "b8jhiDSEWK81",
        "outputId": "27b73886-aee3-48c1-cf49-0ff94532796f"
      },
      "source": [
        "# Gaussian Naive Bayes\r\n",
        "\r\n",
        "gaussian = GaussianNB()\r\n",
        "gaussian.fit(train, target)\r\n",
        "acc_gaussian = round(gaussian.score(train, target) * 100, 2)\r\n",
        "acc_gaussian"
      ],
      "execution_count": 42,
      "outputs": [
        {
          "output_type": "execute_result",
          "data": {
            "text/plain": [
              "71.06"
            ]
          },
          "metadata": {
            "tags": []
          },
          "execution_count": 42
        }
      ]
    },
    {
      "cell_type": "code",
      "metadata": {
        "colab": {
          "base_uri": "https://localhost:8080/"
        },
        "id": "gfVIxAs9Wp36",
        "outputId": "e1183373-499b-4c54-8e82-fd6824ee0d76"
      },
      "source": [
        "acc_test_gaussian = round(gaussian.score(test, target_test) * 100, 2)\r\n",
        "acc_test_gaussian"
      ],
      "execution_count": 43,
      "outputs": [
        {
          "output_type": "execute_result",
          "data": {
            "text/plain": [
              "70.97"
            ]
          },
          "metadata": {
            "tags": []
          },
          "execution_count": 43
        }
      ]
    },
    {
      "cell_type": "code",
      "metadata": {
        "colab": {
          "base_uri": "https://localhost:8080/"
        },
        "id": "AKRAieZLWtQO",
        "outputId": "3ca7ffff-ae67-44d9-efce-2ba4c894ee2b"
      },
      "source": [
        "# k-Nearest Neighbors algorithm\r\n",
        "\r\n",
        "knn = GridSearchCV(estimator=KNeighborsClassifier(), param_grid={'n_neighbors': [2, 3]}, cv=10).fit(train, target)\r\n",
        "acc_knn = round(knn.score(train, target) * 100, 2)\r\n",
        "print(acc_knn, knn.best_params_)"
      ],
      "execution_count": 44,
      "outputs": [
        {
          "output_type": "stream",
          "text": [
            "81.93 {'n_neighbors': 3}\n"
          ],
          "name": "stdout"
        }
      ]
    },
    {
      "cell_type": "code",
      "metadata": {
        "colab": {
          "base_uri": "https://localhost:8080/"
        },
        "id": "DoG7oMZCW4cI",
        "outputId": "31fdc849-ee29-4b03-f985-8c049eba59cd"
      },
      "source": [
        "acc_test_knn = round(knn.score(test, target_test) * 100, 2)\r\n",
        "acc_test_knn"
      ],
      "execution_count": 45,
      "outputs": [
        {
          "output_type": "execute_result",
          "data": {
            "text/plain": [
              "67.73"
            ]
          },
          "metadata": {
            "tags": []
          },
          "execution_count": 45
        }
      ]
    },
    {
      "cell_type": "code",
      "metadata": {
        "id": "HYd_4YXaTD1c"
      },
      "source": [
        "data_c = data_raw.drop(['age','height','weight'], axis=1)"
      ],
      "execution_count": 46,
      "outputs": []
    },
    {
      "cell_type": "code",
      "metadata": {
        "colab": {
          "base_uri": "https://localhost:8080/",
          "height": 1000,
          "referenced_widgets": [
            "a4c81b87ebd8422abbc3d8d06e301bfb",
            "16a267edaa8340339d0bfa6c58631992",
            "304160a8c8cb4a2b91beda723bf999fc",
            "52fcaf5a645743419323a4d3854aacd1",
            "ca8e259164864ef29eac6fbdcce8d070",
            "5be67fefe85141678d1550d4c1b107fd"
          ]
        },
        "id": "3TDWBoSwS5XM",
        "outputId": "b298af70-b810-4cc9-9386-52e7d92e369b"
      },
      "source": [
        "clf1 = setup(data_c, target = 'cardio')"
      ],
      "execution_count": 47,
      "outputs": [
        {
          "output_type": "display_data",
          "data": {
            "text/html": [
              "<div>\n",
              "<style scoped>\n",
              "    .dataframe tbody tr th:only-of-type {\n",
              "        vertical-align: middle;\n",
              "    }\n",
              "\n",
              "    .dataframe tbody tr th {\n",
              "        vertical-align: top;\n",
              "    }\n",
              "\n",
              "    .dataframe thead th {\n",
              "        text-align: right;\n",
              "    }\n",
              "</style>\n",
              "<table border=\"1\" class=\"dataframe\">\n",
              "  <thead>\n",
              "    <tr style=\"text-align: right;\">\n",
              "      <th></th>\n",
              "      <th>Description</th>\n",
              "      <th>Value</th>\n",
              "    </tr>\n",
              "  </thead>\n",
              "  <tbody>\n",
              "    <tr>\n",
              "      <th>0</th>\n",
              "      <td>session_id</td>\n",
              "      <td>3705</td>\n",
              "    </tr>\n",
              "    <tr>\n",
              "      <th>1</th>\n",
              "      <td>Target</td>\n",
              "      <td>cardio</td>\n",
              "    </tr>\n",
              "    <tr>\n",
              "      <th>2</th>\n",
              "      <td>Target Type</td>\n",
              "      <td>Binary</td>\n",
              "    </tr>\n",
              "    <tr>\n",
              "      <th>3</th>\n",
              "      <td>Label Encoded</td>\n",
              "      <td>0: 0, 1: 1</td>\n",
              "    </tr>\n",
              "    <tr>\n",
              "      <th>4</th>\n",
              "      <td>Original Data</td>\n",
              "      <td>(68657, 11)</td>\n",
              "    </tr>\n",
              "    <tr>\n",
              "      <th>5</th>\n",
              "      <td>Missing Values</td>\n",
              "      <td>False</td>\n",
              "    </tr>\n",
              "    <tr>\n",
              "      <th>6</th>\n",
              "      <td>Numeric Features</td>\n",
              "      <td>4</td>\n",
              "    </tr>\n",
              "    <tr>\n",
              "      <th>7</th>\n",
              "      <td>Categorical Features</td>\n",
              "      <td>6</td>\n",
              "    </tr>\n",
              "    <tr>\n",
              "      <th>8</th>\n",
              "      <td>Ordinal Features</td>\n",
              "      <td>False</td>\n",
              "    </tr>\n",
              "    <tr>\n",
              "      <th>9</th>\n",
              "      <td>High Cardinality Features</td>\n",
              "      <td>False</td>\n",
              "    </tr>\n",
              "    <tr>\n",
              "      <th>10</th>\n",
              "      <td>High Cardinality Method</td>\n",
              "      <td>None</td>\n",
              "    </tr>\n",
              "    <tr>\n",
              "      <th>11</th>\n",
              "      <td>Transformed Train Set</td>\n",
              "      <td>(48059, 14)</td>\n",
              "    </tr>\n",
              "    <tr>\n",
              "      <th>12</th>\n",
              "      <td>Transformed Test Set</td>\n",
              "      <td>(20598, 14)</td>\n",
              "    </tr>\n",
              "    <tr>\n",
              "      <th>13</th>\n",
              "      <td>Shuffle Train-Test</td>\n",
              "      <td>True</td>\n",
              "    </tr>\n",
              "    <tr>\n",
              "      <th>14</th>\n",
              "      <td>Stratify Train-Test</td>\n",
              "      <td>False</td>\n",
              "    </tr>\n",
              "    <tr>\n",
              "      <th>15</th>\n",
              "      <td>Fold Generator</td>\n",
              "      <td>StratifiedKFold</td>\n",
              "    </tr>\n",
              "    <tr>\n",
              "      <th>16</th>\n",
              "      <td>Fold Number</td>\n",
              "      <td>10</td>\n",
              "    </tr>\n",
              "    <tr>\n",
              "      <th>17</th>\n",
              "      <td>CPU Jobs</td>\n",
              "      <td>-1</td>\n",
              "    </tr>\n",
              "    <tr>\n",
              "      <th>18</th>\n",
              "      <td>Use GPU</td>\n",
              "      <td>False</td>\n",
              "    </tr>\n",
              "    <tr>\n",
              "      <th>19</th>\n",
              "      <td>Log Experiment</td>\n",
              "      <td>False</td>\n",
              "    </tr>\n",
              "    <tr>\n",
              "      <th>20</th>\n",
              "      <td>Experiment Name</td>\n",
              "      <td>clf-default-name</td>\n",
              "    </tr>\n",
              "    <tr>\n",
              "      <th>21</th>\n",
              "      <td>USI</td>\n",
              "      <td>5bd3</td>\n",
              "    </tr>\n",
              "    <tr>\n",
              "      <th>22</th>\n",
              "      <td>Imputation Type</td>\n",
              "      <td>simple</td>\n",
              "    </tr>\n",
              "    <tr>\n",
              "      <th>23</th>\n",
              "      <td>Iterative Imputation Iteration</td>\n",
              "      <td>None</td>\n",
              "    </tr>\n",
              "    <tr>\n",
              "      <th>24</th>\n",
              "      <td>Numeric Imputer</td>\n",
              "      <td>mean</td>\n",
              "    </tr>\n",
              "    <tr>\n",
              "      <th>25</th>\n",
              "      <td>Iterative Imputation Numeric Model</td>\n",
              "      <td>None</td>\n",
              "    </tr>\n",
              "    <tr>\n",
              "      <th>26</th>\n",
              "      <td>Categorical Imputer</td>\n",
              "      <td>constant</td>\n",
              "    </tr>\n",
              "    <tr>\n",
              "      <th>27</th>\n",
              "      <td>Iterative Imputation Categorical Model</td>\n",
              "      <td>None</td>\n",
              "    </tr>\n",
              "    <tr>\n",
              "      <th>28</th>\n",
              "      <td>Unknown Categoricals Handling</td>\n",
              "      <td>least_frequent</td>\n",
              "    </tr>\n",
              "    <tr>\n",
              "      <th>29</th>\n",
              "      <td>Normalize</td>\n",
              "      <td>False</td>\n",
              "    </tr>\n",
              "    <tr>\n",
              "      <th>30</th>\n",
              "      <td>Normalize Method</td>\n",
              "      <td>None</td>\n",
              "    </tr>\n",
              "    <tr>\n",
              "      <th>31</th>\n",
              "      <td>Transformation</td>\n",
              "      <td>False</td>\n",
              "    </tr>\n",
              "    <tr>\n",
              "      <th>32</th>\n",
              "      <td>Transformation Method</td>\n",
              "      <td>None</td>\n",
              "    </tr>\n",
              "    <tr>\n",
              "      <th>33</th>\n",
              "      <td>PCA</td>\n",
              "      <td>False</td>\n",
              "    </tr>\n",
              "    <tr>\n",
              "      <th>34</th>\n",
              "      <td>PCA Method</td>\n",
              "      <td>None</td>\n",
              "    </tr>\n",
              "    <tr>\n",
              "      <th>35</th>\n",
              "      <td>PCA Components</td>\n",
              "      <td>None</td>\n",
              "    </tr>\n",
              "    <tr>\n",
              "      <th>36</th>\n",
              "      <td>Ignore Low Variance</td>\n",
              "      <td>False</td>\n",
              "    </tr>\n",
              "    <tr>\n",
              "      <th>37</th>\n",
              "      <td>Combine Rare Levels</td>\n",
              "      <td>False</td>\n",
              "    </tr>\n",
              "    <tr>\n",
              "      <th>38</th>\n",
              "      <td>Rare Level Threshold</td>\n",
              "      <td>None</td>\n",
              "    </tr>\n",
              "    <tr>\n",
              "      <th>39</th>\n",
              "      <td>Numeric Binning</td>\n",
              "      <td>False</td>\n",
              "    </tr>\n",
              "    <tr>\n",
              "      <th>40</th>\n",
              "      <td>Remove Outliers</td>\n",
              "      <td>False</td>\n",
              "    </tr>\n",
              "    <tr>\n",
              "      <th>41</th>\n",
              "      <td>Outliers Threshold</td>\n",
              "      <td>None</td>\n",
              "    </tr>\n",
              "    <tr>\n",
              "      <th>42</th>\n",
              "      <td>Remove Multicollinearity</td>\n",
              "      <td>False</td>\n",
              "    </tr>\n",
              "    <tr>\n",
              "      <th>43</th>\n",
              "      <td>Multicollinearity Threshold</td>\n",
              "      <td>None</td>\n",
              "    </tr>\n",
              "    <tr>\n",
              "      <th>44</th>\n",
              "      <td>Clustering</td>\n",
              "      <td>False</td>\n",
              "    </tr>\n",
              "    <tr>\n",
              "      <th>45</th>\n",
              "      <td>Clustering Iteration</td>\n",
              "      <td>None</td>\n",
              "    </tr>\n",
              "    <tr>\n",
              "      <th>46</th>\n",
              "      <td>Polynomial Features</td>\n",
              "      <td>False</td>\n",
              "    </tr>\n",
              "    <tr>\n",
              "      <th>47</th>\n",
              "      <td>Polynomial Degree</td>\n",
              "      <td>None</td>\n",
              "    </tr>\n",
              "    <tr>\n",
              "      <th>48</th>\n",
              "      <td>Trignometry Features</td>\n",
              "      <td>False</td>\n",
              "    </tr>\n",
              "    <tr>\n",
              "      <th>49</th>\n",
              "      <td>Polynomial Threshold</td>\n",
              "      <td>None</td>\n",
              "    </tr>\n",
              "    <tr>\n",
              "      <th>50</th>\n",
              "      <td>Group Features</td>\n",
              "      <td>False</td>\n",
              "    </tr>\n",
              "    <tr>\n",
              "      <th>51</th>\n",
              "      <td>Feature Selection</td>\n",
              "      <td>False</td>\n",
              "    </tr>\n",
              "    <tr>\n",
              "      <th>52</th>\n",
              "      <td>Features Selection Threshold</td>\n",
              "      <td>None</td>\n",
              "    </tr>\n",
              "    <tr>\n",
              "      <th>53</th>\n",
              "      <td>Feature Interaction</td>\n",
              "      <td>False</td>\n",
              "    </tr>\n",
              "    <tr>\n",
              "      <th>54</th>\n",
              "      <td>Feature Ratio</td>\n",
              "      <td>False</td>\n",
              "    </tr>\n",
              "    <tr>\n",
              "      <th>55</th>\n",
              "      <td>Interaction Threshold</td>\n",
              "      <td>None</td>\n",
              "    </tr>\n",
              "    <tr>\n",
              "      <th>56</th>\n",
              "      <td>Fix Imbalance</td>\n",
              "      <td>False</td>\n",
              "    </tr>\n",
              "    <tr>\n",
              "      <th>57</th>\n",
              "      <td>Fix Imbalance Method</td>\n",
              "      <td>SMOTE</td>\n",
              "    </tr>\n",
              "  </tbody>\n",
              "</table>\n",
              "</div>"
            ],
            "text/plain": [
              "                               Description             Value\n",
              "0                               session_id              3705\n",
              "1                                   Target            cardio\n",
              "2                              Target Type            Binary\n",
              "3                            Label Encoded        0: 0, 1: 1\n",
              "4                            Original Data       (68657, 11)\n",
              "5                           Missing Values             False\n",
              "6                         Numeric Features                 4\n",
              "7                     Categorical Features                 6\n",
              "8                         Ordinal Features             False\n",
              "9                High Cardinality Features             False\n",
              "10                 High Cardinality Method              None\n",
              "11                   Transformed Train Set       (48059, 14)\n",
              "12                    Transformed Test Set       (20598, 14)\n",
              "13                      Shuffle Train-Test              True\n",
              "14                     Stratify Train-Test             False\n",
              "15                          Fold Generator   StratifiedKFold\n",
              "16                             Fold Number                10\n",
              "17                                CPU Jobs                -1\n",
              "18                                 Use GPU             False\n",
              "19                          Log Experiment             False\n",
              "20                         Experiment Name  clf-default-name\n",
              "21                                     USI              5bd3\n",
              "22                         Imputation Type            simple\n",
              "23          Iterative Imputation Iteration              None\n",
              "24                         Numeric Imputer              mean\n",
              "25      Iterative Imputation Numeric Model              None\n",
              "26                     Categorical Imputer          constant\n",
              "27  Iterative Imputation Categorical Model              None\n",
              "28           Unknown Categoricals Handling    least_frequent\n",
              "29                               Normalize             False\n",
              "30                        Normalize Method              None\n",
              "31                          Transformation             False\n",
              "32                   Transformation Method              None\n",
              "33                                     PCA             False\n",
              "34                              PCA Method              None\n",
              "35                          PCA Components              None\n",
              "36                     Ignore Low Variance             False\n",
              "37                     Combine Rare Levels             False\n",
              "38                    Rare Level Threshold              None\n",
              "39                         Numeric Binning             False\n",
              "40                         Remove Outliers             False\n",
              "41                      Outliers Threshold              None\n",
              "42                Remove Multicollinearity             False\n",
              "43             Multicollinearity Threshold              None\n",
              "44                              Clustering             False\n",
              "45                    Clustering Iteration              None\n",
              "46                     Polynomial Features             False\n",
              "47                       Polynomial Degree              None\n",
              "48                    Trignometry Features             False\n",
              "49                    Polynomial Threshold              None\n",
              "50                          Group Features             False\n",
              "51                       Feature Selection             False\n",
              "52            Features Selection Threshold              None\n",
              "53                     Feature Interaction             False\n",
              "54                           Feature Ratio             False\n",
              "55                   Interaction Threshold              None\n",
              "56                           Fix Imbalance             False\n",
              "57                    Fix Imbalance Method             SMOTE"
            ]
          },
          "metadata": {
            "tags": []
          }
        }
      ]
    },
    {
      "cell_type": "code",
      "metadata": {
        "colab": {
          "base_uri": "https://localhost:8080/",
          "height": 514,
          "referenced_widgets": [
            "fee08349568542d8bd83b96ce9b76f6d",
            "e3ef8187d73f4a0a91015f175651c2cd",
            "93dc8cc574744bc79cb1c61c14803076"
          ]
        },
        "id": "GZlVvMMwTXxC",
        "outputId": "37d13751-e81b-40f6-b499-43425de5d780"
      },
      "source": [
        "#best_model = compare_models()"
      ],
      "execution_count": 48,
      "outputs": [
        {
          "output_type": "display_data",
          "data": {
            "text/html": [
              "<div>\n",
              "<style scoped>\n",
              "    .dataframe tbody tr th:only-of-type {\n",
              "        vertical-align: middle;\n",
              "    }\n",
              "\n",
              "    .dataframe tbody tr th {\n",
              "        vertical-align: top;\n",
              "    }\n",
              "\n",
              "    .dataframe thead th {\n",
              "        text-align: right;\n",
              "    }\n",
              "</style>\n",
              "<table border=\"1\" class=\"dataframe\">\n",
              "  <thead>\n",
              "    <tr style=\"text-align: right;\">\n",
              "      <th></th>\n",
              "      <th>Model</th>\n",
              "      <th>Accuracy</th>\n",
              "      <th>AUC</th>\n",
              "      <th>Recall</th>\n",
              "      <th>Prec.</th>\n",
              "      <th>F1</th>\n",
              "      <th>Kappa</th>\n",
              "      <th>MCC</th>\n",
              "      <th>TT (Sec)</th>\n",
              "    </tr>\n",
              "  </thead>\n",
              "  <tbody>\n",
              "    <tr>\n",
              "      <th>lightgbm</th>\n",
              "      <td>Light Gradient Boosting Machine</td>\n",
              "      <td>0.7338</td>\n",
              "      <td>0.7995</td>\n",
              "      <td>0.6912</td>\n",
              "      <td>0.7502</td>\n",
              "      <td>0.7194</td>\n",
              "      <td>0.4669</td>\n",
              "      <td>0.4684</td>\n",
              "      <td>0.478</td>\n",
              "    </tr>\n",
              "    <tr>\n",
              "      <th>gbc</th>\n",
              "      <td>Gradient Boosting Classifier</td>\n",
              "      <td>0.7335</td>\n",
              "      <td>0.7998</td>\n",
              "      <td>0.6900</td>\n",
              "      <td>0.7504</td>\n",
              "      <td>0.7188</td>\n",
              "      <td>0.4664</td>\n",
              "      <td>0.4679</td>\n",
              "      <td>3.251</td>\n",
              "    </tr>\n",
              "    <tr>\n",
              "      <th>catboost</th>\n",
              "      <td>CatBoost Classifier</td>\n",
              "      <td>0.7331</td>\n",
              "      <td>0.7986</td>\n",
              "      <td>0.6888</td>\n",
              "      <td>0.7504</td>\n",
              "      <td>0.7182</td>\n",
              "      <td>0.4656</td>\n",
              "      <td>0.4672</td>\n",
              "      <td>19.737</td>\n",
              "    </tr>\n",
              "    <tr>\n",
              "      <th>xgboost</th>\n",
              "      <td>Extreme Gradient Boosting</td>\n",
              "      <td>0.7301</td>\n",
              "      <td>0.7940</td>\n",
              "      <td>0.6865</td>\n",
              "      <td>0.7468</td>\n",
              "      <td>0.7153</td>\n",
              "      <td>0.4597</td>\n",
              "      <td>0.4612</td>\n",
              "      <td>12.746</td>\n",
              "    </tr>\n",
              "    <tr>\n",
              "      <th>ada</th>\n",
              "      <td>Ada Boost Classifier</td>\n",
              "      <td>0.7276</td>\n",
              "      <td>0.7930</td>\n",
              "      <td>0.6498</td>\n",
              "      <td>0.7635</td>\n",
              "      <td>0.7020</td>\n",
              "      <td>0.4541</td>\n",
              "      <td>0.4592</td>\n",
              "      <td>1.136</td>\n",
              "    </tr>\n",
              "    <tr>\n",
              "      <th>lr</th>\n",
              "      <td>Logistic Regression</td>\n",
              "      <td>0.7263</td>\n",
              "      <td>0.7905</td>\n",
              "      <td>0.6622</td>\n",
              "      <td>0.7538</td>\n",
              "      <td>0.7050</td>\n",
              "      <td>0.4517</td>\n",
              "      <td>0.4551</td>\n",
              "      <td>2.649</td>\n",
              "    </tr>\n",
              "    <tr>\n",
              "      <th>ridge</th>\n",
              "      <td>Ridge Classifier</td>\n",
              "      <td>0.7243</td>\n",
              "      <td>0.0000</td>\n",
              "      <td>0.6487</td>\n",
              "      <td>0.7583</td>\n",
              "      <td>0.6992</td>\n",
              "      <td>0.4476</td>\n",
              "      <td>0.4523</td>\n",
              "      <td>0.059</td>\n",
              "    </tr>\n",
              "    <tr>\n",
              "      <th>lda</th>\n",
              "      <td>Linear Discriminant Analysis</td>\n",
              "      <td>0.7243</td>\n",
              "      <td>0.7900</td>\n",
              "      <td>0.6487</td>\n",
              "      <td>0.7583</td>\n",
              "      <td>0.6992</td>\n",
              "      <td>0.4476</td>\n",
              "      <td>0.4523</td>\n",
              "      <td>0.147</td>\n",
              "    </tr>\n",
              "    <tr>\n",
              "      <th>knn</th>\n",
              "      <td>K Neighbors Classifier</td>\n",
              "      <td>0.6939</td>\n",
              "      <td>0.7425</td>\n",
              "      <td>0.6740</td>\n",
              "      <td>0.6964</td>\n",
              "      <td>0.6850</td>\n",
              "      <td>0.3874</td>\n",
              "      <td>0.3876</td>\n",
              "      <td>1.872</td>\n",
              "    </tr>\n",
              "    <tr>\n",
              "      <th>svm</th>\n",
              "      <td>SVM - Linear Kernel</td>\n",
              "      <td>0.6918</td>\n",
              "      <td>0.0000</td>\n",
              "      <td>0.6111</td>\n",
              "      <td>0.7414</td>\n",
              "      <td>0.6495</td>\n",
              "      <td>0.3823</td>\n",
              "      <td>0.4001</td>\n",
              "      <td>1.507</td>\n",
              "    </tr>\n",
              "    <tr>\n",
              "      <th>rf</th>\n",
              "      <td>Random Forest Classifier</td>\n",
              "      <td>0.6877</td>\n",
              "      <td>0.7449</td>\n",
              "      <td>0.6924</td>\n",
              "      <td>0.6808</td>\n",
              "      <td>0.6865</td>\n",
              "      <td>0.3754</td>\n",
              "      <td>0.3755</td>\n",
              "      <td>4.720</td>\n",
              "    </tr>\n",
              "    <tr>\n",
              "      <th>et</th>\n",
              "      <td>Extra Trees Classifier</td>\n",
              "      <td>0.6715</td>\n",
              "      <td>0.7103</td>\n",
              "      <td>0.6744</td>\n",
              "      <td>0.6652</td>\n",
              "      <td>0.6697</td>\n",
              "      <td>0.3429</td>\n",
              "      <td>0.3430</td>\n",
              "      <td>5.147</td>\n",
              "    </tr>\n",
              "    <tr>\n",
              "      <th>nb</th>\n",
              "      <td>Naive Bayes</td>\n",
              "      <td>0.6708</td>\n",
              "      <td>0.7531</td>\n",
              "      <td>0.5525</td>\n",
              "      <td>0.7162</td>\n",
              "      <td>0.6237</td>\n",
              "      <td>0.3397</td>\n",
              "      <td>0.3488</td>\n",
              "      <td>0.060</td>\n",
              "    </tr>\n",
              "    <tr>\n",
              "      <th>dt</th>\n",
              "      <td>Decision Tree Classifier</td>\n",
              "      <td>0.6396</td>\n",
              "      <td>0.6402</td>\n",
              "      <td>0.6242</td>\n",
              "      <td>0.6382</td>\n",
              "      <td>0.6311</td>\n",
              "      <td>0.2789</td>\n",
              "      <td>0.2790</td>\n",
              "      <td>0.219</td>\n",
              "    </tr>\n",
              "    <tr>\n",
              "      <th>qda</th>\n",
              "      <td>Quadratic Discriminant Analysis</td>\n",
              "      <td>0.5454</td>\n",
              "      <td>0.5422</td>\n",
              "      <td>0.2755</td>\n",
              "      <td>0.6148</td>\n",
              "      <td>0.3227</td>\n",
              "      <td>0.0849</td>\n",
              "      <td>0.1106</td>\n",
              "      <td>0.077</td>\n",
              "    </tr>\n",
              "  </tbody>\n",
              "</table>\n",
              "</div>"
            ],
            "text/plain": [
              "                                    Model  Accuracy     AUC  Recall   Prec.  \\\n",
              "lightgbm  Light Gradient Boosting Machine    0.7338  0.7995  0.6912  0.7502   \n",
              "gbc          Gradient Boosting Classifier    0.7335  0.7998  0.6900  0.7504   \n",
              "catboost              CatBoost Classifier    0.7331  0.7986  0.6888  0.7504   \n",
              "xgboost         Extreme Gradient Boosting    0.7301  0.7940  0.6865  0.7468   \n",
              "ada                  Ada Boost Classifier    0.7276  0.7930  0.6498  0.7635   \n",
              "lr                    Logistic Regression    0.7263  0.7905  0.6622  0.7538   \n",
              "ridge                    Ridge Classifier    0.7243  0.0000  0.6487  0.7583   \n",
              "lda          Linear Discriminant Analysis    0.7243  0.7900  0.6487  0.7583   \n",
              "knn                K Neighbors Classifier    0.6939  0.7425  0.6740  0.6964   \n",
              "svm                   SVM - Linear Kernel    0.6918  0.0000  0.6111  0.7414   \n",
              "rf               Random Forest Classifier    0.6877  0.7449  0.6924  0.6808   \n",
              "et                 Extra Trees Classifier    0.6715  0.7103  0.6744  0.6652   \n",
              "nb                            Naive Bayes    0.6708  0.7531  0.5525  0.7162   \n",
              "dt               Decision Tree Classifier    0.6396  0.6402  0.6242  0.6382   \n",
              "qda       Quadratic Discriminant Analysis    0.5454  0.5422  0.2755  0.6148   \n",
              "\n",
              "              F1   Kappa     MCC  TT (Sec)  \n",
              "lightgbm  0.7194  0.4669  0.4684     0.478  \n",
              "gbc       0.7188  0.4664  0.4679     3.251  \n",
              "catboost  0.7182  0.4656  0.4672    19.737  \n",
              "xgboost   0.7153  0.4597  0.4612    12.746  \n",
              "ada       0.7020  0.4541  0.4592     1.136  \n",
              "lr        0.7050  0.4517  0.4551     2.649  \n",
              "ridge     0.6992  0.4476  0.4523     0.059  \n",
              "lda       0.6992  0.4476  0.4523     0.147  \n",
              "knn       0.6850  0.3874  0.3876     1.872  \n",
              "svm       0.6495  0.3823  0.4001     1.507  \n",
              "rf        0.6865  0.3754  0.3755     4.720  \n",
              "et        0.6697  0.3429  0.3430     5.147  \n",
              "nb        0.6237  0.3397  0.3488     0.060  \n",
              "dt        0.6311  0.2789  0.2790     0.219  \n",
              "qda       0.3227  0.0849  0.1106     0.077  "
            ]
          },
          "metadata": {
            "tags": []
          }
        }
      ]
    },
    {
      "cell_type": "code",
      "metadata": {
        "id": "2cAJbTgGWj4T"
      },
      "source": [
        "sample  = data_c.sample(frac=0.1, random_state=42) "
      ],
      "execution_count": 49,
      "outputs": []
    },
    {
      "cell_type": "code",
      "metadata": {
        "colab": {
          "base_uri": "https://localhost:8080/"
        },
        "id": "cJTCLT5UVgsu",
        "outputId": "658eeb87-88d2-47ef-8d24-04893ce0bb26"
      },
      "source": [
        "best_model"
      ],
      "execution_count": 50,
      "outputs": [
        {
          "output_type": "execute_result",
          "data": {
            "text/plain": [
              "LGBMClassifier(boosting_type='gbdt', class_weight=None, colsample_bytree=1.0,\n",
              "               importance_type='split', learning_rate=0.1, max_depth=-1,\n",
              "               min_child_samples=20, min_child_weight=0.001, min_split_gain=0.0,\n",
              "               n_estimators=100, n_jobs=-1, num_leaves=31, objective=None,\n",
              "               random_state=3705, reg_alpha=0.0, reg_lambda=0.0, silent=True,\n",
              "               subsample=1.0, subsample_for_bin=200000, subsample_freq=0)"
            ]
          },
          "metadata": {
            "tags": []
          },
          "execution_count": 50
        }
      ]
    },
    {
      "cell_type": "code",
      "metadata": {
        "colab": {
          "base_uri": "https://localhost:8080/",
          "height": 421,
          "referenced_widgets": [
            "18ffc525e47e4b64b7631fdd01015c0f",
            "58321a03f1c141e98e2da69df240d51b",
            "c7d948784d8f4b95b98380c59310500a"
          ]
        },
        "id": "HpHpcgqjVm_S",
        "outputId": "902a8a24-6b96-40c6-d38f-8f91e891e0e4"
      },
      "source": [
        "model = create_model('lightgbm')"
      ],
      "execution_count": 51,
      "outputs": [
        {
          "output_type": "display_data",
          "data": {
            "text/html": [
              "<div>\n",
              "<style scoped>\n",
              "    .dataframe tbody tr th:only-of-type {\n",
              "        vertical-align: middle;\n",
              "    }\n",
              "\n",
              "    .dataframe tbody tr th {\n",
              "        vertical-align: top;\n",
              "    }\n",
              "\n",
              "    .dataframe thead th {\n",
              "        text-align: right;\n",
              "    }\n",
              "</style>\n",
              "<table border=\"1\" class=\"dataframe\">\n",
              "  <thead>\n",
              "    <tr style=\"text-align: right;\">\n",
              "      <th></th>\n",
              "      <th>Accuracy</th>\n",
              "      <th>AUC</th>\n",
              "      <th>Recall</th>\n",
              "      <th>Prec.</th>\n",
              "      <th>F1</th>\n",
              "      <th>Kappa</th>\n",
              "      <th>MCC</th>\n",
              "    </tr>\n",
              "  </thead>\n",
              "  <tbody>\n",
              "    <tr>\n",
              "      <th>0</th>\n",
              "      <td>0.7360</td>\n",
              "      <td>0.7980</td>\n",
              "      <td>0.7047</td>\n",
              "      <td>0.7465</td>\n",
              "      <td>0.7250</td>\n",
              "      <td>0.4715</td>\n",
              "      <td>0.4722</td>\n",
              "    </tr>\n",
              "    <tr>\n",
              "      <th>1</th>\n",
              "      <td>0.7395</td>\n",
              "      <td>0.8043</td>\n",
              "      <td>0.6761</td>\n",
              "      <td>0.7687</td>\n",
              "      <td>0.7194</td>\n",
              "      <td>0.4782</td>\n",
              "      <td>0.4816</td>\n",
              "    </tr>\n",
              "    <tr>\n",
              "      <th>2</th>\n",
              "      <td>0.7382</td>\n",
              "      <td>0.8068</td>\n",
              "      <td>0.7005</td>\n",
              "      <td>0.7525</td>\n",
              "      <td>0.7256</td>\n",
              "      <td>0.4760</td>\n",
              "      <td>0.4771</td>\n",
              "    </tr>\n",
              "    <tr>\n",
              "      <th>3</th>\n",
              "      <td>0.7233</td>\n",
              "      <td>0.7878</td>\n",
              "      <td>0.6761</td>\n",
              "      <td>0.7410</td>\n",
              "      <td>0.7070</td>\n",
              "      <td>0.4459</td>\n",
              "      <td>0.4475</td>\n",
              "    </tr>\n",
              "    <tr>\n",
              "      <th>4</th>\n",
              "      <td>0.7355</td>\n",
              "      <td>0.7982</td>\n",
              "      <td>0.6879</td>\n",
              "      <td>0.7550</td>\n",
              "      <td>0.7199</td>\n",
              "      <td>0.4704</td>\n",
              "      <td>0.4723</td>\n",
              "    </tr>\n",
              "    <tr>\n",
              "      <th>5</th>\n",
              "      <td>0.7357</td>\n",
              "      <td>0.8018</td>\n",
              "      <td>0.7012</td>\n",
              "      <td>0.7479</td>\n",
              "      <td>0.7238</td>\n",
              "      <td>0.4710</td>\n",
              "      <td>0.4719</td>\n",
              "    </tr>\n",
              "    <tr>\n",
              "      <th>6</th>\n",
              "      <td>0.7355</td>\n",
              "      <td>0.8024</td>\n",
              "      <td>0.6979</td>\n",
              "      <td>0.7493</td>\n",
              "      <td>0.7227</td>\n",
              "      <td>0.4705</td>\n",
              "      <td>0.4716</td>\n",
              "    </tr>\n",
              "    <tr>\n",
              "      <th>7</th>\n",
              "      <td>0.7322</td>\n",
              "      <td>0.8015</td>\n",
              "      <td>0.6890</td>\n",
              "      <td>0.7486</td>\n",
              "      <td>0.7176</td>\n",
              "      <td>0.4638</td>\n",
              "      <td>0.4653</td>\n",
              "    </tr>\n",
              "    <tr>\n",
              "      <th>8</th>\n",
              "      <td>0.7249</td>\n",
              "      <td>0.7930</td>\n",
              "      <td>0.6873</td>\n",
              "      <td>0.7377</td>\n",
              "      <td>0.7116</td>\n",
              "      <td>0.4493</td>\n",
              "      <td>0.4503</td>\n",
              "    </tr>\n",
              "    <tr>\n",
              "      <th>9</th>\n",
              "      <td>0.7367</td>\n",
              "      <td>0.8006</td>\n",
              "      <td>0.6915</td>\n",
              "      <td>0.7548</td>\n",
              "      <td>0.7218</td>\n",
              "      <td>0.4728</td>\n",
              "      <td>0.4745</td>\n",
              "    </tr>\n",
              "    <tr>\n",
              "      <th>Mean</th>\n",
              "      <td>0.7338</td>\n",
              "      <td>0.7995</td>\n",
              "      <td>0.6912</td>\n",
              "      <td>0.7502</td>\n",
              "      <td>0.7194</td>\n",
              "      <td>0.4669</td>\n",
              "      <td>0.4684</td>\n",
              "    </tr>\n",
              "    <tr>\n",
              "      <th>SD</th>\n",
              "      <td>0.0052</td>\n",
              "      <td>0.0053</td>\n",
              "      <td>0.0095</td>\n",
              "      <td>0.0081</td>\n",
              "      <td>0.0057</td>\n",
              "      <td>0.0103</td>\n",
              "      <td>0.0105</td>\n",
              "    </tr>\n",
              "  </tbody>\n",
              "</table>\n",
              "</div>"
            ],
            "text/plain": [
              "      Accuracy     AUC  Recall   Prec.      F1   Kappa     MCC\n",
              "0       0.7360  0.7980  0.7047  0.7465  0.7250  0.4715  0.4722\n",
              "1       0.7395  0.8043  0.6761  0.7687  0.7194  0.4782  0.4816\n",
              "2       0.7382  0.8068  0.7005  0.7525  0.7256  0.4760  0.4771\n",
              "3       0.7233  0.7878  0.6761  0.7410  0.7070  0.4459  0.4475\n",
              "4       0.7355  0.7982  0.6879  0.7550  0.7199  0.4704  0.4723\n",
              "5       0.7357  0.8018  0.7012  0.7479  0.7238  0.4710  0.4719\n",
              "6       0.7355  0.8024  0.6979  0.7493  0.7227  0.4705  0.4716\n",
              "7       0.7322  0.8015  0.6890  0.7486  0.7176  0.4638  0.4653\n",
              "8       0.7249  0.7930  0.6873  0.7377  0.7116  0.4493  0.4503\n",
              "9       0.7367  0.8006  0.6915  0.7548  0.7218  0.4728  0.4745\n",
              "Mean    0.7338  0.7995  0.6912  0.7502  0.7194  0.4669  0.4684\n",
              "SD      0.0052  0.0053  0.0095  0.0081  0.0057  0.0103  0.0105"
            ]
          },
          "metadata": {
            "tags": []
          }
        }
      ]
    },
    {
      "cell_type": "code",
      "metadata": {
        "colab": {
          "base_uri": "https://localhost:8080/",
          "height": 421,
          "referenced_widgets": [
            "d8f26b2bdd944bacb2badfec8e16aceb",
            "6189e9224d434c4d9130564a339a7ed7",
            "35c73d5fa426422fb6e32858bcd266d3"
          ]
        },
        "id": "0IJggGA0Vp1K",
        "outputId": "94fbc7c5-d7dd-44e1-d9dc-b316d017dc28"
      },
      "source": [
        "tuned_model = tune_model(model)"
      ],
      "execution_count": 52,
      "outputs": [
        {
          "output_type": "display_data",
          "data": {
            "text/html": [
              "<div>\n",
              "<style scoped>\n",
              "    .dataframe tbody tr th:only-of-type {\n",
              "        vertical-align: middle;\n",
              "    }\n",
              "\n",
              "    .dataframe tbody tr th {\n",
              "        vertical-align: top;\n",
              "    }\n",
              "\n",
              "    .dataframe thead th {\n",
              "        text-align: right;\n",
              "    }\n",
              "</style>\n",
              "<table border=\"1\" class=\"dataframe\">\n",
              "  <thead>\n",
              "    <tr style=\"text-align: right;\">\n",
              "      <th></th>\n",
              "      <th>Accuracy</th>\n",
              "      <th>AUC</th>\n",
              "      <th>Recall</th>\n",
              "      <th>Prec.</th>\n",
              "      <th>F1</th>\n",
              "      <th>Kappa</th>\n",
              "      <th>MCC</th>\n",
              "    </tr>\n",
              "  </thead>\n",
              "  <tbody>\n",
              "    <tr>\n",
              "      <th>0</th>\n",
              "      <td>0.7360</td>\n",
              "      <td>0.7957</td>\n",
              "      <td>0.7030</td>\n",
              "      <td>0.7474</td>\n",
              "      <td>0.7245</td>\n",
              "      <td>0.4715</td>\n",
              "      <td>0.4723</td>\n",
              "    </tr>\n",
              "    <tr>\n",
              "      <th>1</th>\n",
              "      <td>0.7387</td>\n",
              "      <td>0.8045</td>\n",
              "      <td>0.6794</td>\n",
              "      <td>0.7652</td>\n",
              "      <td>0.7198</td>\n",
              "      <td>0.4765</td>\n",
              "      <td>0.4795</td>\n",
              "    </tr>\n",
              "    <tr>\n",
              "      <th>2</th>\n",
              "      <td>0.7439</td>\n",
              "      <td>0.8057</td>\n",
              "      <td>0.7018</td>\n",
              "      <td>0.7611</td>\n",
              "      <td>0.7302</td>\n",
              "      <td>0.4872</td>\n",
              "      <td>0.4886</td>\n",
              "    </tr>\n",
              "    <tr>\n",
              "      <th>3</th>\n",
              "      <td>0.7218</td>\n",
              "      <td>0.7883</td>\n",
              "      <td>0.6769</td>\n",
              "      <td>0.7382</td>\n",
              "      <td>0.7062</td>\n",
              "      <td>0.4430</td>\n",
              "      <td>0.4445</td>\n",
              "    </tr>\n",
              "    <tr>\n",
              "      <th>4</th>\n",
              "      <td>0.7357</td>\n",
              "      <td>0.7967</td>\n",
              "      <td>0.6874</td>\n",
              "      <td>0.7556</td>\n",
              "      <td>0.7199</td>\n",
              "      <td>0.4708</td>\n",
              "      <td>0.4727</td>\n",
              "    </tr>\n",
              "    <tr>\n",
              "      <th>5</th>\n",
              "      <td>0.7387</td>\n",
              "      <td>0.8021</td>\n",
              "      <td>0.7050</td>\n",
              "      <td>0.7506</td>\n",
              "      <td>0.7271</td>\n",
              "      <td>0.4768</td>\n",
              "      <td>0.4777</td>\n",
              "    </tr>\n",
              "    <tr>\n",
              "      <th>6</th>\n",
              "      <td>0.7362</td>\n",
              "      <td>0.8015</td>\n",
              "      <td>0.7029</td>\n",
              "      <td>0.7476</td>\n",
              "      <td>0.7246</td>\n",
              "      <td>0.4719</td>\n",
              "      <td>0.4727</td>\n",
              "    </tr>\n",
              "    <tr>\n",
              "      <th>7</th>\n",
              "      <td>0.7343</td>\n",
              "      <td>0.7999</td>\n",
              "      <td>0.6907</td>\n",
              "      <td>0.7511</td>\n",
              "      <td>0.7196</td>\n",
              "      <td>0.4680</td>\n",
              "      <td>0.4695</td>\n",
              "    </tr>\n",
              "    <tr>\n",
              "      <th>8</th>\n",
              "      <td>0.7235</td>\n",
              "      <td>0.7916</td>\n",
              "      <td>0.6873</td>\n",
              "      <td>0.7353</td>\n",
              "      <td>0.7105</td>\n",
              "      <td>0.4464</td>\n",
              "      <td>0.4473</td>\n",
              "    </tr>\n",
              "    <tr>\n",
              "      <th>9</th>\n",
              "      <td>0.7369</td>\n",
              "      <td>0.7990</td>\n",
              "      <td>0.6890</td>\n",
              "      <td>0.7566</td>\n",
              "      <td>0.7212</td>\n",
              "      <td>0.4732</td>\n",
              "      <td>0.4751</td>\n",
              "    </tr>\n",
              "    <tr>\n",
              "      <th>Mean</th>\n",
              "      <td>0.7346</td>\n",
              "      <td>0.7985</td>\n",
              "      <td>0.6924</td>\n",
              "      <td>0.7509</td>\n",
              "      <td>0.7204</td>\n",
              "      <td>0.4685</td>\n",
              "      <td>0.4700</td>\n",
              "    </tr>\n",
              "    <tr>\n",
              "      <th>SD</th>\n",
              "      <td>0.0065</td>\n",
              "      <td>0.0052</td>\n",
              "      <td>0.0097</td>\n",
              "      <td>0.0089</td>\n",
              "      <td>0.0069</td>\n",
              "      <td>0.0129</td>\n",
              "      <td>0.0131</td>\n",
              "    </tr>\n",
              "  </tbody>\n",
              "</table>\n",
              "</div>"
            ],
            "text/plain": [
              "      Accuracy     AUC  Recall   Prec.      F1   Kappa     MCC\n",
              "0       0.7360  0.7957  0.7030  0.7474  0.7245  0.4715  0.4723\n",
              "1       0.7387  0.8045  0.6794  0.7652  0.7198  0.4765  0.4795\n",
              "2       0.7439  0.8057  0.7018  0.7611  0.7302  0.4872  0.4886\n",
              "3       0.7218  0.7883  0.6769  0.7382  0.7062  0.4430  0.4445\n",
              "4       0.7357  0.7967  0.6874  0.7556  0.7199  0.4708  0.4727\n",
              "5       0.7387  0.8021  0.7050  0.7506  0.7271  0.4768  0.4777\n",
              "6       0.7362  0.8015  0.7029  0.7476  0.7246  0.4719  0.4727\n",
              "7       0.7343  0.7999  0.6907  0.7511  0.7196  0.4680  0.4695\n",
              "8       0.7235  0.7916  0.6873  0.7353  0.7105  0.4464  0.4473\n",
              "9       0.7369  0.7990  0.6890  0.7566  0.7212  0.4732  0.4751\n",
              "Mean    0.7346  0.7985  0.6924  0.7509  0.7204  0.4685  0.4700\n",
              "SD      0.0065  0.0052  0.0097  0.0089  0.0069  0.0129  0.0131"
            ]
          },
          "metadata": {
            "tags": []
          }
        }
      ]
    },
    {
      "cell_type": "code",
      "metadata": {
        "colab": {
          "base_uri": "https://localhost:8080/"
        },
        "id": "87QTgDa7Vt3r",
        "outputId": "34c269cc-f711-4ddd-eccd-a97f33a8a209"
      },
      "source": [
        "save_model(tuned_model, 'tuned_model')"
      ],
      "execution_count": 53,
      "outputs": [
        {
          "output_type": "stream",
          "text": [
            "Transformation Pipeline and Model Succesfully Saved\n"
          ],
          "name": "stdout"
        },
        {
          "output_type": "execute_result",
          "data": {
            "text/plain": [
              "(Pipeline(memory=None,\n",
              "          steps=[('dtypes',\n",
              "                  DataTypes_Auto_infer(categorical_features=[],\n",
              "                                       display_types=True, features_todrop=[],\n",
              "                                       id_columns=[],\n",
              "                                       ml_usecase='classification',\n",
              "                                       numerical_features=[], target='cardio',\n",
              "                                       time_features=[])),\n",
              "                 ('imputer',\n",
              "                  Simple_Imputer(categorical_strategy='not_available',\n",
              "                                 fill_value_categorical=None,\n",
              "                                 fill_value_numerical=None,\n",
              "                                 numeric_strat...\n",
              "                                 colsample_bytree=1.0, feature_fraction=0.9,\n",
              "                                 importance_type='split', learning_rate=0.29,\n",
              "                                 max_depth=-1, min_child_samples=85,\n",
              "                                 min_child_weight=0.001, min_split_gain=0.7,\n",
              "                                 n_estimators=100, n_jobs=-1, num_leaves=70,\n",
              "                                 objective=None, random_state=3705, reg_alpha=4,\n",
              "                                 reg_lambda=0.0001, silent=True, subsample=1.0,\n",
              "                                 subsample_for_bin=200000, subsample_freq=0)]],\n",
              "          verbose=False), 'tuned_model.pkl')"
            ]
          },
          "metadata": {
            "tags": []
          },
          "execution_count": 53
        }
      ]
    },
    {
      "cell_type": "code",
      "metadata": {
        "colab": {
          "base_uri": "https://localhost:8080/",
          "height": 376,
          "referenced_widgets": [
            "c381d65b654447f4ba2ee2c93acd9dd2",
            "752e1f90eadc45f59dd6d8db07515a70",
            "77f229b7edee4034bcec35e61c58d0a2"
          ]
        },
        "id": "XpFO-D92V07g",
        "outputId": "734c2cfa-369e-48a5-ffed-b8728af47058"
      },
      "source": [
        "plot_model(tuned_model, plot = 'auc')"
      ],
      "execution_count": 54,
      "outputs": [
        {
          "output_type": "display_data",
          "data": {
            "image/png": "[encoded data removed]",
            "text/plain": [
              "<Figure size 576x396 with 1 Axes>"
            ]
          },
          "metadata": {
            "tags": []
          }
        }
      ]
    },
    {
      "cell_type": "code",
      "metadata": {
        "colab": {
          "base_uri": "https://localhost:8080/",
          "height": 401
        },
        "id": "-Ae_mp6CV31t",
        "outputId": "bb8945bb-d50f-4102-b13c-9b47027b93af"
      },
      "source": [
        "plot_model(tuned_model, 'confusion_matrix')"
      ],
      "execution_count": 55,
      "outputs": [
        {
          "output_type": "display_data",
          "data": {
            "image/png": "[encoded data removed]",
            "text/plain": [
              "<Figure size 576x396 with 1 Axes>"
            ]
          },
          "metadata": {
            "tags": []
          }
        }
      ]
    },
    {
      "cell_type": "code",
      "metadata": {
        "id": "lOd1_alsV58V"
      },
      "source": [
        "final_m = finalize_model(tuned_model)"
      ],
      "execution_count": 56,
      "outputs": []
    },
    {
      "cell_type": "code",
      "metadata": {
        "colab": {
          "base_uri": "https://localhost:8080/"
        },
        "id": "bNoBEbT8V78X",
        "outputId": "a10bea51-8261-4604-ea9e-f42a33b13dfd"
      },
      "source": [
        "save_model(final_m, 'final_m')"
      ],
      "execution_count": 57,
      "outputs": [
        {
          "output_type": "stream",
          "text": [
            "Transformation Pipeline and Model Succesfully Saved\n"
          ],
          "name": "stdout"
        },
        {
          "output_type": "execute_result",
          "data": {
            "text/plain": [
              "(Pipeline(memory=None,\n",
              "          steps=[('dtypes',\n",
              "                  DataTypes_Auto_infer(categorical_features=[],\n",
              "                                       display_types=True, features_todrop=[],\n",
              "                                       id_columns=[],\n",
              "                                       ml_usecase='classification',\n",
              "                                       numerical_features=[], target='cardio',\n",
              "                                       time_features=[])),\n",
              "                 ('imputer',\n",
              "                  Simple_Imputer(categorical_strategy='not_available',\n",
              "                                 fill_value_categorical=None,\n",
              "                                 fill_value_numerical=None,\n",
              "                                 numeric_strat...\n",
              "                                 colsample_bytree=1.0, feature_fraction=0.9,\n",
              "                                 importance_type='split', learning_rate=0.29,\n",
              "                                 max_depth=-1, min_child_samples=85,\n",
              "                                 min_child_weight=0.001, min_split_gain=0.7,\n",
              "                                 n_estimators=100, n_jobs=-1, num_leaves=70,\n",
              "                                 objective=None, random_state=3705, reg_alpha=4,\n",
              "                                 reg_lambda=0.0001, silent=True, subsample=1.0,\n",
              "                                 subsample_for_bin=200000, subsample_freq=0)]],\n",
              "          verbose=False), 'final_xg.pkl')"
            ]
          },
          "metadata": {
            "tags": []
          },
          "execution_count": 57
        }
      ]
    },
    {
      "cell_type": "code",
      "metadata": {
        "colab": {
          "base_uri": "https://localhost:8080/",
          "height": 502
        },
        "id": "BGlI8XdPWFBb",
        "outputId": "e68c1107-a1b9-46d7-82cd-74eb784b95a8"
      },
      "source": [
        "predict_model(final_m)"
      ],
      "execution_count": 58,
      "outputs": [
        {
          "output_type": "display_data",
          "data": {
            "text/html": [
              "<div>\n",
              "<style scoped>\n",
              "    .dataframe tbody tr th:only-of-type {\n",
              "        vertical-align: middle;\n",
              "    }\n",
              "\n",
              "    .dataframe tbody tr th {\n",
              "        vertical-align: top;\n",
              "    }\n",
              "\n",
              "    .dataframe thead th {\n",
              "        text-align: right;\n",
              "    }\n",
              "</style>\n",
              "<table border=\"1\" class=\"dataframe\">\n",
              "  <thead>\n",
              "    <tr style=\"text-align: right;\">\n",
              "      <th></th>\n",
              "      <th>Model</th>\n",
              "      <th>Accuracy</th>\n",
              "      <th>AUC</th>\n",
              "      <th>Recall</th>\n",
              "      <th>Prec.</th>\n",
              "      <th>F1</th>\n",
              "      <th>Kappa</th>\n",
              "      <th>MCC</th>\n",
              "    </tr>\n",
              "  </thead>\n",
              "  <tbody>\n",
              "    <tr>\n",
              "      <th>0</th>\n",
              "      <td>Light Gradient Boosting Machine</td>\n",
              "      <td>0.7435</td>\n",
              "      <td>0.8119</td>\n",
              "      <td>0.7019</td>\n",
              "      <td>0.7631</td>\n",
              "      <td>0.7312</td>\n",
              "      <td>0.4868</td>\n",
              "      <td>0.4883</td>\n",
              "    </tr>\n",
              "  </tbody>\n",
              "</table>\n",
              "</div>"
            ],
            "text/plain": [
              "                             Model  Accuracy     AUC  ...      F1   Kappa     MCC\n",
              "0  Light Gradient Boosting Machine    0.7435  0.8119  ...  0.7312  0.4868  0.4883\n",
              "\n",
              "[1 rows x 8 columns]"
            ]
          },
          "metadata": {
            "tags": []
          }
        },
        {
          "output_type": "execute_result",
          "data": {
            "text/html": [
              "<div>\n",
              "<style scoped>\n",
              "    .dataframe tbody tr th:only-of-type {\n",
              "        vertical-align: middle;\n",
              "    }\n",
              "\n",
              "    .dataframe tbody tr th {\n",
              "        vertical-align: top;\n",
              "    }\n",
              "\n",
              "    .dataframe thead th {\n",
              "        text-align: right;\n",
              "    }\n",
              "</style>\n",
              "<table border=\"1\" class=\"dataframe\">\n",
              "  <thead>\n",
              "    <tr style=\"text-align: right;\">\n",
              "      <th></th>\n",
              "      <th>ap_hi</th>\n",
              "      <th>ap_lo</th>\n",
              "      <th>bmi</th>\n",
              "      <th>age_years</th>\n",
              "      <th>gender_0</th>\n",
              "      <th>cholesterol_1</th>\n",
              "      <th>cholesterol_2</th>\n",
              "      <th>cholesterol_3</th>\n",
              "      <th>gluc_1</th>\n",
              "      <th>gluc_2</th>\n",
              "      <th>gluc_3</th>\n",
              "      <th>smoke_0</th>\n",
              "      <th>alco_1</th>\n",
              "      <th>active_1</th>\n",
              "      <th>cardio</th>\n",
              "      <th>Label</th>\n",
              "      <th>Score</th>\n",
              "    </tr>\n",
              "  </thead>\n",
              "  <tbody>\n",
              "    <tr>\n",
              "      <th>0</th>\n",
              "      <td>130.0</td>\n",
              "      <td>90.0</td>\n",
              "      <td>46.022354</td>\n",
              "      <td>50.0</td>\n",
              "      <td>0.0</td>\n",
              "      <td>1.0</td>\n",
              "      <td>0.0</td>\n",
              "      <td>0.0</td>\n",
              "      <td>1.0</td>\n",
              "      <td>0.0</td>\n",
              "      <td>0.0</td>\n",
              "      <td>1.0</td>\n",
              "      <td>0.0</td>\n",
              "      <td>1.0</td>\n",
              "      <td>0</td>\n",
              "      <td>1</td>\n",
              "      <td>0.5490</td>\n",
              "    </tr>\n",
              "    <tr>\n",
              "      <th>1</th>\n",
              "      <td>120.0</td>\n",
              "      <td>80.0</td>\n",
              "      <td>24.801588</td>\n",
              "      <td>63.0</td>\n",
              "      <td>1.0</td>\n",
              "      <td>1.0</td>\n",
              "      <td>0.0</td>\n",
              "      <td>0.0</td>\n",
              "      <td>1.0</td>\n",
              "      <td>0.0</td>\n",
              "      <td>0.0</td>\n",
              "      <td>0.0</td>\n",
              "      <td>1.0</td>\n",
              "      <td>1.0</td>\n",
              "      <td>0</td>\n",
              "      <td>0</td>\n",
              "      <td>0.6575</td>\n",
              "    </tr>\n",
              "    <tr>\n",
              "      <th>2</th>\n",
              "      <td>120.0</td>\n",
              "      <td>90.0</td>\n",
              "      <td>45.488708</td>\n",
              "      <td>53.0</td>\n",
              "      <td>0.0</td>\n",
              "      <td>0.0</td>\n",
              "      <td>0.0</td>\n",
              "      <td>1.0</td>\n",
              "      <td>1.0</td>\n",
              "      <td>0.0</td>\n",
              "      <td>0.0</td>\n",
              "      <td>1.0</td>\n",
              "      <td>0.0</td>\n",
              "      <td>1.0</td>\n",
              "      <td>1</td>\n",
              "      <td>1</td>\n",
              "      <td>0.8184</td>\n",
              "    </tr>\n",
              "    <tr>\n",
              "      <th>3</th>\n",
              "      <td>120.0</td>\n",
              "      <td>80.0</td>\n",
              "      <td>23.030045</td>\n",
              "      <td>51.0</td>\n",
              "      <td>0.0</td>\n",
              "      <td>1.0</td>\n",
              "      <td>0.0</td>\n",
              "      <td>0.0</td>\n",
              "      <td>1.0</td>\n",
              "      <td>0.0</td>\n",
              "      <td>0.0</td>\n",
              "      <td>1.0</td>\n",
              "      <td>0.0</td>\n",
              "      <td>1.0</td>\n",
              "      <td>1</td>\n",
              "      <td>0</td>\n",
              "      <td>0.7523</td>\n",
              "    </tr>\n",
              "    <tr>\n",
              "      <th>4</th>\n",
              "      <td>140.0</td>\n",
              "      <td>90.0</td>\n",
              "      <td>32.987915</td>\n",
              "      <td>64.0</td>\n",
              "      <td>0.0</td>\n",
              "      <td>1.0</td>\n",
              "      <td>0.0</td>\n",
              "      <td>0.0</td>\n",
              "      <td>1.0</td>\n",
              "      <td>0.0</td>\n",
              "      <td>0.0</td>\n",
              "      <td>1.0</td>\n",
              "      <td>0.0</td>\n",
              "      <td>0.0</td>\n",
              "      <td>1</td>\n",
              "      <td>1</td>\n",
              "      <td>0.8317</td>\n",
              "    </tr>\n",
              "    <tr>\n",
              "      <th>...</th>\n",
              "      <td>...</td>\n",
              "      <td>...</td>\n",
              "      <td>...</td>\n",
              "      <td>...</td>\n",
              "      <td>...</td>\n",
              "      <td>...</td>\n",
              "      <td>...</td>\n",
              "      <td>...</td>\n",
              "      <td>...</td>\n",
              "      <td>...</td>\n",
              "      <td>...</td>\n",
              "      <td>...</td>\n",
              "      <td>...</td>\n",
              "      <td>...</td>\n",
              "      <td>...</td>\n",
              "      <td>...</td>\n",
              "      <td>...</td>\n",
              "    </tr>\n",
              "    <tr>\n",
              "      <th>20593</th>\n",
              "      <td>120.0</td>\n",
              "      <td>80.0</td>\n",
              "      <td>24.772097</td>\n",
              "      <td>52.0</td>\n",
              "      <td>1.0</td>\n",
              "      <td>1.0</td>\n",
              "      <td>0.0</td>\n",
              "      <td>0.0</td>\n",
              "      <td>1.0</td>\n",
              "      <td>0.0</td>\n",
              "      <td>0.0</td>\n",
              "      <td>1.0</td>\n",
              "      <td>0.0</td>\n",
              "      <td>1.0</td>\n",
              "      <td>0</td>\n",
              "      <td>0</td>\n",
              "      <td>0.7268</td>\n",
              "    </tr>\n",
              "    <tr>\n",
              "      <th>20594</th>\n",
              "      <td>100.0</td>\n",
              "      <td>70.0</td>\n",
              "      <td>24.242424</td>\n",
              "      <td>63.0</td>\n",
              "      <td>1.0</td>\n",
              "      <td>0.0</td>\n",
              "      <td>0.0</td>\n",
              "      <td>1.0</td>\n",
              "      <td>1.0</td>\n",
              "      <td>0.0</td>\n",
              "      <td>0.0</td>\n",
              "      <td>0.0</td>\n",
              "      <td>0.0</td>\n",
              "      <td>1.0</td>\n",
              "      <td>1</td>\n",
              "      <td>1</td>\n",
              "      <td>0.6914</td>\n",
              "    </tr>\n",
              "    <tr>\n",
              "      <th>20595</th>\n",
              "      <td>120.0</td>\n",
              "      <td>80.0</td>\n",
              "      <td>26.927437</td>\n",
              "      <td>58.0</td>\n",
              "      <td>0.0</td>\n",
              "      <td>1.0</td>\n",
              "      <td>0.0</td>\n",
              "      <td>0.0</td>\n",
              "      <td>1.0</td>\n",
              "      <td>0.0</td>\n",
              "      <td>0.0</td>\n",
              "      <td>1.0</td>\n",
              "      <td>0.0</td>\n",
              "      <td>0.0</td>\n",
              "      <td>1</td>\n",
              "      <td>0</td>\n",
              "      <td>0.5370</td>\n",
              "    </tr>\n",
              "    <tr>\n",
              "      <th>20596</th>\n",
              "      <td>120.0</td>\n",
              "      <td>80.0</td>\n",
              "      <td>23.051754</td>\n",
              "      <td>42.0</td>\n",
              "      <td>0.0</td>\n",
              "      <td>1.0</td>\n",
              "      <td>0.0</td>\n",
              "      <td>0.0</td>\n",
              "      <td>1.0</td>\n",
              "      <td>0.0</td>\n",
              "      <td>0.0</td>\n",
              "      <td>1.0</td>\n",
              "      <td>0.0</td>\n",
              "      <td>0.0</td>\n",
              "      <td>0</td>\n",
              "      <td>0</td>\n",
              "      <td>0.8672</td>\n",
              "    </tr>\n",
              "    <tr>\n",
              "      <th>20597</th>\n",
              "      <td>110.0</td>\n",
              "      <td>70.0</td>\n",
              "      <td>22.229061</td>\n",
              "      <td>40.0</td>\n",
              "      <td>1.0</td>\n",
              "      <td>1.0</td>\n",
              "      <td>0.0</td>\n",
              "      <td>0.0</td>\n",
              "      <td>1.0</td>\n",
              "      <td>0.0</td>\n",
              "      <td>0.0</td>\n",
              "      <td>0.0</td>\n",
              "      <td>0.0</td>\n",
              "      <td>1.0</td>\n",
              "      <td>0</td>\n",
              "      <td>0</td>\n",
              "      <td>0.9280</td>\n",
              "    </tr>\n",
              "  </tbody>\n",
              "</table>\n",
              "<p>20598 rows × 17 columns</p>\n",
              "</div>"
            ],
            "text/plain": [
              "       ap_hi  ap_lo        bmi  age_years  ...  active_1  cardio  Label   Score\n",
              "0      130.0   90.0  46.022354       50.0  ...       1.0       0      1  0.5490\n",
              "1      120.0   80.0  24.801588       63.0  ...       1.0       0      0  0.6575\n",
              "2      120.0   90.0  45.488708       53.0  ...       1.0       1      1  0.8184\n",
              "3      120.0   80.0  23.030045       51.0  ...       1.0       1      0  0.7523\n",
              "4      140.0   90.0  32.987915       64.0  ...       0.0       1      1  0.8317\n",
              "...      ...    ...        ...        ...  ...       ...     ...    ...     ...\n",
              "20593  120.0   80.0  24.772097       52.0  ...       1.0       0      0  0.7268\n",
              "20594  100.0   70.0  24.242424       63.0  ...       1.0       1      1  0.6914\n",
              "20595  120.0   80.0  26.927437       58.0  ...       0.0       1      0  0.5370\n",
              "20596  120.0   80.0  23.051754       42.0  ...       0.0       0      0  0.8672\n",
              "20597  110.0   70.0  22.229061       40.0  ...       1.0       0      0  0.9280\n",
              "\n",
              "[20598 rows x 17 columns]"
            ]
          },
          "metadata": {
            "tags": []
          },
          "execution_count": 58
        }
      ]
    },
    {
      "cell_type": "code",
      "metadata": {
        "id": "oq581qcxWH5S"
      },
      "source": [
        "sample = sample.drop(columns=['cardio'])"
      ],
      "execution_count": 59,
      "outputs": []
    },
    {
      "cell_type": "code",
      "metadata": {
        "colab": {
          "base_uri": "https://localhost:8080/"
        },
        "id": "-g14ih57WKbm",
        "outputId": "03f9800b-eac3-4a1e-ad1b-785e84b565a5"
      },
      "source": [
        "sample.isnull().sum().sort_values(ascending = False)"
      ],
      "execution_count": 60,
      "outputs": [
        {
          "output_type": "execute_result",
          "data": {
            "text/plain": [
              "age_years      0\n",
              "bmi            0\n",
              "active         0\n",
              "alco           0\n",
              "smoke          0\n",
              "gluc           0\n",
              "cholesterol    0\n",
              "ap_lo          0\n",
              "ap_hi          0\n",
              "gender         0\n",
              "dtype: int64"
            ]
          },
          "metadata": {
            "tags": []
          },
          "execution_count": 60
        }
      ]
    },
    {
      "cell_type": "code",
      "metadata": {
        "id": "A1YQ675QWO09"
      },
      "source": [
        "#Et je reset l'index.\r\n",
        "sample.reset_index(drop=True, inplace=True)"
      ],
      "execution_count": 61,
      "outputs": []
    },
    {
      "cell_type": "code",
      "metadata": {
        "id": "OzPwHziyWvwQ"
      },
      "source": [
        "Les_predictions = predict_model(final_m, data=sample)"
      ],
      "execution_count": 62,
      "outputs": []
    },
    {
      "cell_type": "code",
      "metadata": {
        "colab": {
          "base_uri": "https://localhost:8080/",
          "height": 419
        },
        "id": "a98RbjOKWybD",
        "outputId": "abb86f10-d598-45e7-bc10-a99a904556ec"
      },
      "source": [
        "Les_predictions"
      ],
      "execution_count": 63,
      "outputs": [
        {
          "output_type": "execute_result",
          "data": {
            "text/html": [
              "<div>\n",
              "<style scoped>\n",
              "    .dataframe tbody tr th:only-of-type {\n",
              "        vertical-align: middle;\n",
              "    }\n",
              "\n",
              "    .dataframe tbody tr th {\n",
              "        vertical-align: top;\n",
              "    }\n",
              "\n",
              "    .dataframe thead th {\n",
              "        text-align: right;\n",
              "    }\n",
              "</style>\n",
              "<table border=\"1\" class=\"dataframe\">\n",
              "  <thead>\n",
              "    <tr style=\"text-align: right;\">\n",
              "      <th></th>\n",
              "      <th>gender</th>\n",
              "      <th>ap_hi</th>\n",
              "      <th>ap_lo</th>\n",
              "      <th>cholesterol</th>\n",
              "      <th>gluc</th>\n",
              "      <th>smoke</th>\n",
              "      <th>alco</th>\n",
              "      <th>active</th>\n",
              "      <th>bmi</th>\n",
              "      <th>age_years</th>\n",
              "      <th>Label</th>\n",
              "      <th>Score</th>\n",
              "    </tr>\n",
              "  </thead>\n",
              "  <tbody>\n",
              "    <tr>\n",
              "      <th>0</th>\n",
              "      <td>0</td>\n",
              "      <td>140</td>\n",
              "      <td>90</td>\n",
              "      <td>1</td>\n",
              "      <td>1</td>\n",
              "      <td>0</td>\n",
              "      <td>0</td>\n",
              "      <td>0</td>\n",
              "      <td>23.423557</td>\n",
              "      <td>48</td>\n",
              "      <td>1</td>\n",
              "      <td>0.8745</td>\n",
              "    </tr>\n",
              "    <tr>\n",
              "      <th>1</th>\n",
              "      <td>0</td>\n",
              "      <td>120</td>\n",
              "      <td>80</td>\n",
              "      <td>3</td>\n",
              "      <td>3</td>\n",
              "      <td>0</td>\n",
              "      <td>0</td>\n",
              "      <td>1</td>\n",
              "      <td>30.468750</td>\n",
              "      <td>55</td>\n",
              "      <td>1</td>\n",
              "      <td>0.7061</td>\n",
              "    </tr>\n",
              "    <tr>\n",
              "      <th>2</th>\n",
              "      <td>1</td>\n",
              "      <td>90</td>\n",
              "      <td>60</td>\n",
              "      <td>1</td>\n",
              "      <td>1</td>\n",
              "      <td>0</td>\n",
              "      <td>0</td>\n",
              "      <td>1</td>\n",
              "      <td>22.832879</td>\n",
              "      <td>52</td>\n",
              "      <td>0</td>\n",
              "      <td>0.8662</td>\n",
              "    </tr>\n",
              "    <tr>\n",
              "      <th>3</th>\n",
              "      <td>0</td>\n",
              "      <td>110</td>\n",
              "      <td>80</td>\n",
              "      <td>1</td>\n",
              "      <td>1</td>\n",
              "      <td>0</td>\n",
              "      <td>0</td>\n",
              "      <td>1</td>\n",
              "      <td>25.648918</td>\n",
              "      <td>44</td>\n",
              "      <td>0</td>\n",
              "      <td>0.8654</td>\n",
              "    </tr>\n",
              "    <tr>\n",
              "      <th>4</th>\n",
              "      <td>1</td>\n",
              "      <td>100</td>\n",
              "      <td>60</td>\n",
              "      <td>1</td>\n",
              "      <td>1</td>\n",
              "      <td>0</td>\n",
              "      <td>0</td>\n",
              "      <td>0</td>\n",
              "      <td>23.437500</td>\n",
              "      <td>41</td>\n",
              "      <td>0</td>\n",
              "      <td>0.9103</td>\n",
              "    </tr>\n",
              "    <tr>\n",
              "      <th>...</th>\n",
              "      <td>...</td>\n",
              "      <td>...</td>\n",
              "      <td>...</td>\n",
              "      <td>...</td>\n",
              "      <td>...</td>\n",
              "      <td>...</td>\n",
              "      <td>...</td>\n",
              "      <td>...</td>\n",
              "      <td>...</td>\n",
              "      <td>...</td>\n",
              "      <td>...</td>\n",
              "      <td>...</td>\n",
              "    </tr>\n",
              "    <tr>\n",
              "      <th>6861</th>\n",
              "      <td>1</td>\n",
              "      <td>145</td>\n",
              "      <td>82</td>\n",
              "      <td>1</td>\n",
              "      <td>1</td>\n",
              "      <td>0</td>\n",
              "      <td>0</td>\n",
              "      <td>0</td>\n",
              "      <td>35.430839</td>\n",
              "      <td>57</td>\n",
              "      <td>1</td>\n",
              "      <td>0.7412</td>\n",
              "    </tr>\n",
              "    <tr>\n",
              "      <th>6862</th>\n",
              "      <td>1</td>\n",
              "      <td>130</td>\n",
              "      <td>80</td>\n",
              "      <td>1</td>\n",
              "      <td>1</td>\n",
              "      <td>0</td>\n",
              "      <td>0</td>\n",
              "      <td>1</td>\n",
              "      <td>27.777778</td>\n",
              "      <td>57</td>\n",
              "      <td>1</td>\n",
              "      <td>0.5990</td>\n",
              "    </tr>\n",
              "    <tr>\n",
              "      <th>6863</th>\n",
              "      <td>0</td>\n",
              "      <td>110</td>\n",
              "      <td>70</td>\n",
              "      <td>1</td>\n",
              "      <td>3</td>\n",
              "      <td>0</td>\n",
              "      <td>0</td>\n",
              "      <td>1</td>\n",
              "      <td>24.243918</td>\n",
              "      <td>46</td>\n",
              "      <td>0</td>\n",
              "      <td>0.8112</td>\n",
              "    </tr>\n",
              "    <tr>\n",
              "      <th>6864</th>\n",
              "      <td>1</td>\n",
              "      <td>150</td>\n",
              "      <td>90</td>\n",
              "      <td>1</td>\n",
              "      <td>1</td>\n",
              "      <td>0</td>\n",
              "      <td>0</td>\n",
              "      <td>1</td>\n",
              "      <td>25.299376</td>\n",
              "      <td>59</td>\n",
              "      <td>1</td>\n",
              "      <td>0.8534</td>\n",
              "    </tr>\n",
              "    <tr>\n",
              "      <th>6865</th>\n",
              "      <td>0</td>\n",
              "      <td>140</td>\n",
              "      <td>80</td>\n",
              "      <td>2</td>\n",
              "      <td>2</td>\n",
              "      <td>0</td>\n",
              "      <td>0</td>\n",
              "      <td>1</td>\n",
              "      <td>32.791945</td>\n",
              "      <td>58</td>\n",
              "      <td>1</td>\n",
              "      <td>0.7874</td>\n",
              "    </tr>\n",
              "  </tbody>\n",
              "</table>\n",
              "<p>6866 rows × 12 columns</p>\n",
              "</div>"
            ],
            "text/plain": [
              "      gender  ap_hi  ap_lo  cholesterol  ...        bmi  age_years  Label   Score\n",
              "0          0    140     90            1  ...  23.423557         48      1  0.8745\n",
              "1          0    120     80            3  ...  30.468750         55      1  0.7061\n",
              "2          1     90     60            1  ...  22.832879         52      0  0.8662\n",
              "3          0    110     80            1  ...  25.648918         44      0  0.8654\n",
              "4          1    100     60            1  ...  23.437500         41      0  0.9103\n",
              "...      ...    ...    ...          ...  ...        ...        ...    ...     ...\n",
              "6861       1    145     82            1  ...  35.430839         57      1  0.7412\n",
              "6862       1    130     80            1  ...  27.777778         57      1  0.5990\n",
              "6863       0    110     70            1  ...  24.243918         46      0  0.8112\n",
              "6864       1    150     90            1  ...  25.299376         59      1  0.8534\n",
              "6865       0    140     80            2  ...  32.791945         58      1  0.7874\n",
              "\n",
              "[6866 rows x 12 columns]"
            ]
          },
          "metadata": {
            "tags": []
          },
          "execution_count": 63
        }
      ]
    },
    {
      "cell_type": "code",
      "metadata": {
        "colab": {
          "base_uri": "https://localhost:8080/"
        },
        "id": "Gnm5RfhXW0sd",
        "outputId": "27c8b16d-dff6-403a-f005-e2b09932be93"
      },
      "source": [
        "Les_predictions.Label.value_counts()"
      ],
      "execution_count": 64,
      "outputs": [
        {
          "output_type": "execute_result",
          "data": {
            "text/plain": [
              "0    3774\n",
              "1    3092\n",
              "Name: Label, dtype: int64"
            ]
          },
          "metadata": {
            "tags": []
          },
          "execution_count": 64
        }
      ]
    },
    {
      "cell_type": "code",
      "metadata": {
        "colab": {
          "base_uri": "https://localhost:8080/",
          "height": 204
        },
        "id": "cquYehLJW4CM",
        "outputId": "83e36181-20fc-41e2-d3f1-bbd46271823c"
      },
      "source": [
        "Les_predictions[Les_predictions[\"Label\"] == 1].head(5)"
      ],
      "execution_count": 68,
      "outputs": [
        {
          "output_type": "execute_result",
          "data": {
            "text/html": [
              "<div>\n",
              "<style scoped>\n",
              "    .dataframe tbody tr th:only-of-type {\n",
              "        vertical-align: middle;\n",
              "    }\n",
              "\n",
              "    .dataframe tbody tr th {\n",
              "        vertical-align: top;\n",
              "    }\n",
              "\n",
              "    .dataframe thead th {\n",
              "        text-align: right;\n",
              "    }\n",
              "</style>\n",
              "<table border=\"1\" class=\"dataframe\">\n",
              "  <thead>\n",
              "    <tr style=\"text-align: right;\">\n",
              "      <th></th>\n",
              "      <th>gender</th>\n",
              "      <th>ap_hi</th>\n",
              "      <th>ap_lo</th>\n",
              "      <th>cholesterol</th>\n",
              "      <th>gluc</th>\n",
              "      <th>smoke</th>\n",
              "      <th>alco</th>\n",
              "      <th>active</th>\n",
              "      <th>bmi</th>\n",
              "      <th>age_years</th>\n",
              "      <th>Label</th>\n",
              "      <th>Score</th>\n",
              "    </tr>\n",
              "  </thead>\n",
              "  <tbody>\n",
              "    <tr>\n",
              "      <th>0</th>\n",
              "      <td>0</td>\n",
              "      <td>140</td>\n",
              "      <td>90</td>\n",
              "      <td>1</td>\n",
              "      <td>1</td>\n",
              "      <td>0</td>\n",
              "      <td>0</td>\n",
              "      <td>0</td>\n",
              "      <td>23.423557</td>\n",
              "      <td>48</td>\n",
              "      <td>1</td>\n",
              "      <td>0.8745</td>\n",
              "    </tr>\n",
              "    <tr>\n",
              "      <th>1</th>\n",
              "      <td>0</td>\n",
              "      <td>120</td>\n",
              "      <td>80</td>\n",
              "      <td>3</td>\n",
              "      <td>3</td>\n",
              "      <td>0</td>\n",
              "      <td>0</td>\n",
              "      <td>1</td>\n",
              "      <td>30.468750</td>\n",
              "      <td>55</td>\n",
              "      <td>1</td>\n",
              "      <td>0.7061</td>\n",
              "    </tr>\n",
              "    <tr>\n",
              "      <th>5</th>\n",
              "      <td>1</td>\n",
              "      <td>140</td>\n",
              "      <td>80</td>\n",
              "      <td>1</td>\n",
              "      <td>1</td>\n",
              "      <td>0</td>\n",
              "      <td>0</td>\n",
              "      <td>1</td>\n",
              "      <td>36.096071</td>\n",
              "      <td>57</td>\n",
              "      <td>1</td>\n",
              "      <td>0.7868</td>\n",
              "    </tr>\n",
              "    <tr>\n",
              "      <th>7</th>\n",
              "      <td>0</td>\n",
              "      <td>130</td>\n",
              "      <td>90</td>\n",
              "      <td>1</td>\n",
              "      <td>1</td>\n",
              "      <td>1</td>\n",
              "      <td>0</td>\n",
              "      <td>1</td>\n",
              "      <td>27.181630</td>\n",
              "      <td>61</td>\n",
              "      <td>1</td>\n",
              "      <td>0.5172</td>\n",
              "    </tr>\n",
              "    <tr>\n",
              "      <th>9</th>\n",
              "      <td>0</td>\n",
              "      <td>130</td>\n",
              "      <td>70</td>\n",
              "      <td>3</td>\n",
              "      <td>2</td>\n",
              "      <td>0</td>\n",
              "      <td>0</td>\n",
              "      <td>1</td>\n",
              "      <td>23.566632</td>\n",
              "      <td>58</td>\n",
              "      <td>1</td>\n",
              "      <td>0.7415</td>\n",
              "    </tr>\n",
              "  </tbody>\n",
              "</table>\n",
              "</div>"
            ],
            "text/plain": [
              "   gender  ap_hi  ap_lo  cholesterol  ...        bmi  age_years  Label   Score\n",
              "0       0    140     90            1  ...  23.423557         48      1  0.8745\n",
              "1       0    120     80            3  ...  30.468750         55      1  0.7061\n",
              "5       1    140     80            1  ...  36.096071         57      1  0.7868\n",
              "7       0    130     90            1  ...  27.181630         61      1  0.5172\n",
              "9       0    130     70            3  ...  23.566632         58      1  0.7415\n",
              "\n",
              "[5 rows x 12 columns]"
            ]
          },
          "metadata": {
            "tags": []
          },
          "execution_count": 68
        }
      ]
    }
  ]
}